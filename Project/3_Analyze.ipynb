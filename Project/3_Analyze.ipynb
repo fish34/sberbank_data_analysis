{
  "nbformat": 4,
  "nbformat_minor": 0,
  "metadata": {
    "colab": {
      "name": "3_Analyze.ipynb",
      "provenance": [],
      "collapsed_sections": []
    },
    "kernelspec": {
      "name": "python3",
      "display_name": "Python 3"
    }
  },
  "cells": [
    {
      "cell_type": "code",
      "metadata": {
        "id": "Vq_GlZerRoRb"
      },
      "source": [
        "import csv\n",
        "import pandas as pd\n",
        "import numpy as np\n",
        "from sklearn.model_selection import train_test_split\n",
        "from sklearn.feature_extraction.text import TfidfVectorizer\n",
        "import sklearn.naive_bayes as nbyes\n",
        "from sklearn.metrics import classification_report\n",
        "from sklearn.metrics import accuracy_score\n",
        "from sklearn.model_selection import GridSearchCV\n",
        "from sklearn import preprocessing\n",
        "from sklearn import metrics\n",
        "import matplotlib.pyplot as plt\n",
        "import matplotlib\n",
        "import seaborn as sns"
      ],
      "execution_count": 2,
      "outputs": []
    },
    {
      "cell_type": "code",
      "metadata": {
        "id": "LYJ7epyCd-Ix",
        "colab": {
          "base_uri": "https://localhost:8080/"
        },
        "outputId": "fb576626-3d59-4cb0-dcb4-ad20464e4b1a"
      },
      "source": [
        "# Скачаем файлы базы\n",
        "!rm -rf /content/sberbank_data_analysis/\n",
        "!git clone https://github.com/fish34/sberbank_data_analysis.git\n",
        "!unzip /content/sberbank_data_analysis/Project/courses_cleaned.zip\n"
      ],
      "execution_count": 3,
      "outputs": [
        {
          "output_type": "stream",
          "text": [
            "Cloning into 'sberbank_data_analysis'...\n",
            "remote: Enumerating objects: 272, done.\u001b[K\n",
            "remote: Counting objects: 100% (175/175), done.\u001b[K\n",
            "remote: Compressing objects: 100% (128/128), done.\u001b[K\n",
            "remote: Total 272 (delta 76), reused 103 (delta 44), pack-reused 97\u001b[K\n",
            "Receiving objects: 100% (272/272), 59.53 MiB | 28.25 MiB/s, done.\n",
            "Resolving deltas: 100% (93/93), done.\n",
            "Archive:  /content/sberbank_data_analysis/Project/courses_cleaned.zip\n",
            "  inflating: courses_cleaned.csv     \n"
          ],
          "name": "stdout"
        }
      ]
    },
    {
      "cell_type": "code",
      "metadata": {
        "id": "oBgXaan1ShyL"
      },
      "source": [
        "df_all=pd.read_csv(\"/content/courses_cleaned.csv\",index_col=0)"
      ],
      "execution_count": 4,
      "outputs": []
    },
    {
      "cell_type": "code",
      "metadata": {
        "id": "iNRppshnQtb5",
        "colab": {
          "base_uri": "https://localhost:8080/",
          "height": 204
        },
        "outputId": "eba96513-a0f0-4321-e1f9-70c0c62181ce"
      },
      "source": [
        "df_all.head()"
      ],
      "execution_count": 5,
      "outputs": [
        {
          "output_type": "execute_result",
          "data": {
            "text/html": [
              "<div>\n",
              "<style scoped>\n",
              "    .dataframe tbody tr th:only-of-type {\n",
              "        vertical-align: middle;\n",
              "    }\n",
              "\n",
              "    .dataframe tbody tr th {\n",
              "        vertical-align: top;\n",
              "    }\n",
              "\n",
              "    .dataframe thead th {\n",
              "        text-align: right;\n",
              "    }\n",
              "</style>\n",
              "<table border=\"1\" class=\"dataframe\">\n",
              "  <thead>\n",
              "    <tr style=\"text-align: right;\">\n",
              "      <th></th>\n",
              "      <th>title</th>\n",
              "      <th>descr</th>\n",
              "      <th>marks</th>\n",
              "      <th>raiting</th>\n",
              "      <th>url</th>\n",
              "      <th>direction</th>\n",
              "    </tr>\n",
              "  </thead>\n",
              "  <tbody>\n",
              "    <tr>\n",
              "      <th>0</th>\n",
              "      <td>Introduction to Big Data</td>\n",
              "      <td>['interested', 'increasing', 'knowledge', 'big...</td>\n",
              "      <td>9666</td>\n",
              "      <td>4.6</td>\n",
              "      <td>https://www.coursera.org/learn/big-data-introd...</td>\n",
              "      <td>big data</td>\n",
              "    </tr>\n",
              "    <tr>\n",
              "      <th>1</th>\n",
              "      <td>Big Data Essentials: HDFS, MapReduce and Spark...</td>\n",
              "      <td>['ever', 'heard', 'technologies', 'hdfs', 'map...</td>\n",
              "      <td>528</td>\n",
              "      <td>4.0</td>\n",
              "      <td>https://www.coursera.org/learn/big-data-essent...</td>\n",
              "      <td>big data</td>\n",
              "    </tr>\n",
              "    <tr>\n",
              "      <th>2</th>\n",
              "      <td>Big Data, Artificial Intelligence, and Ethics</td>\n",
              "      <td>['course', 'gives', 'context', 'experience', '...</td>\n",
              "      <td>317</td>\n",
              "      <td>4.6</td>\n",
              "      <td>https://www.coursera.org/learn/big-data-ai-ethics</td>\n",
              "      <td>big data</td>\n",
              "    </tr>\n",
              "    <tr>\n",
              "      <th>3</th>\n",
              "      <td>Introduction to Data Engineering</td>\n",
              "      <td>['course', 'introduces', 'core', 'concepts', '...</td>\n",
              "      <td>57</td>\n",
              "      <td>4.6</td>\n",
              "      <td>https://www.coursera.org/learn/introduction-to...</td>\n",
              "      <td>big data</td>\n",
              "    </tr>\n",
              "    <tr>\n",
              "      <th>4</th>\n",
              "      <td>Data-driven Decision Making</td>\n",
              "      <td>['welcome', 'decision', 'making', 'course', 'l...</td>\n",
              "      <td>5451</td>\n",
              "      <td>4.6</td>\n",
              "      <td>https://www.coursera.org/learn/decision-making</td>\n",
              "      <td>big data</td>\n",
              "    </tr>\n",
              "  </tbody>\n",
              "</table>\n",
              "</div>"
            ],
            "text/plain": [
              "                                               title  ... direction\n",
              "0                           Introduction to Big Data  ...  big data\n",
              "1  Big Data Essentials: HDFS, MapReduce and Spark...  ...  big data\n",
              "2      Big Data, Artificial Intelligence, and Ethics  ...  big data\n",
              "3                   Introduction to Data Engineering  ...  big data\n",
              "4                        Data-driven Decision Making  ...  big data\n",
              "\n",
              "[5 rows x 6 columns]"
            ]
          },
          "metadata": {
            "tags": []
          },
          "execution_count": 5
        }
      ]
    },
    {
      "cell_type": "code",
      "metadata": {
        "id": "chqxvrCMvlC0",
        "colab": {
          "base_uri": "https://localhost:8080/",
          "height": 540
        },
        "outputId": "7d4b5ad5-e240-4e29-f920-5c5ad6549c54"
      },
      "source": [
        "# Выведем на гистограмме среднее значение оценок и рейтинга по каждому направлению\n",
        "\n",
        "plt.figure(figsize=(30,15))\n",
        "plt.subplot(2,2,1)\n",
        "ax=plt.gca()\n",
        "df_all.groupby(['direction'])['marks'].mean().plot.bar()\n",
        "ax.set_xlabel('Направление')\n",
        "plt.xticks(rotation=60)\n",
        "ax.set_title('Количество оценок')\n",
        "ax.legend(labels=['Количество оценок'])\n",
        "\n",
        "plt.subplot(2,2,2)\n",
        "ax=plt.gca()\n",
        "df_all.groupby(['direction'])['raiting'].mean().plot.bar(color='green')\n",
        "ax.set_xlabel('Направление')\n",
        "plt.xticks(rotation=60)\n",
        "ax.set_title('Средний рейтинг')\n",
        "ax.legend(labels=['Средний рейтинг'])\n",
        "\n",
        "plt.show()"
      ],
      "execution_count": 8,
      "outputs": [
        {
          "output_type": "display_data",
          "data": {
            "image/png": "[encoded data removed]",
            "text/plain": [
              "<Figure size 2160x1080 with 2 Axes>"
            ]
          },
          "metadata": {
            "tags": [],
            "needs_background": "light"
          }
        }
      ]
    },
    {
      "cell_type": "code",
      "metadata": {
        "id": "wWD2Fb8dew19",
        "colab": {
          "base_uri": "https://localhost:8080/",
          "height": 540
        },
        "outputId": "3b6f5b59-36a3-4465-bbc4-008dbf44ed57"
      },
      "source": [
        "# Отобразим гистограмму количества специализаций и курсов по каждому направлению. Видно, что выборка несбалансирована, значительное число курсов приходится на направление [it products]\n",
        "# Отобразим балансировку числа слов от направлений. Так же видна несбалансированность числа слов от направлений.\n",
        "plt.figure(figsize=(30,15))\n",
        "\n",
        "plt.subplot(2,2,1)\n",
        "ax=plt.gca()\n",
        "df_all.groupby(['direction'])['direction'].count().plot.bar()\n",
        "ax.set_xlabel('Направление')\n",
        "plt.xticks(rotation=60)\n",
        "ax.set_title('Количество курсов по направлению')\n",
        "ax.legend(labels=['Количество курсов'])\n",
        "\n",
        "plt.subplot(2,2,2)\n",
        "ax=plt.gca()\n",
        "df_all['words count']=df_all['descr'].str.len()\n",
        "df_all_hist=df_all.groupby(['direction'])['words count'].sum().plot.bar(color='green')\n",
        "ax.set_xlabel('Направление')\n",
        "plt.xticks(rotation=60)\n",
        "ax.set_title('Количество слов')\n",
        "ax.legend(labels=['Количество слов'])\n",
        "\n",
        "plt.show()"
      ],
      "execution_count": 16,
      "outputs": [
        {
          "output_type": "display_data",
          "data": {
            "image/png": "[encoded data removed]",
            "text/plain": [
              "<Figure size 2160x1080 with 2 Axes>"
            ]
          },
          "metadata": {
            "tags": [],
            "needs_background": "light"
          }
        }
      ]
    },
    {
      "cell_type": "code",
      "metadata": {
        "id": "hKvdB2DUa_Pe"
      },
      "source": [
        "# Выделим данные для построения модели.\n",
        "courses=df_all[['descr','direction']]"
      ],
      "execution_count": 29,
      "outputs": []
    },
    {
      "cell_type": "code",
      "metadata": {
        "id": "QSO6cotFfNmm",
        "colab": {
          "base_uri": "https://localhost:8080/"
        },
        "outputId": "203aa12f-d9c9-4a64-a73a-c84a799135d1"
      },
      "source": [
        "#Закодируем целевую переменную - направление.\n",
        "encoders = {}\n",
        "encoders['direction'] = preprocessing.LabelEncoder() # для колонки direction создаем кодировщик\n",
        "courses['direction'] = encoders['direction'].fit_transform(courses['direction']) # применяем кодировщик к столбцу и перезаписываем столбец"
      ],
      "execution_count": 30,
      "outputs": [
        {
          "output_type": "stream",
          "text": [
            "/usr/local/lib/python3.7/dist-packages/ipykernel_launcher.py:4: SettingWithCopyWarning: \n",
            "A value is trying to be set on a copy of a slice from a DataFrame.\n",
            "Try using .loc[row_indexer,col_indexer] = value instead\n",
            "\n",
            "See the caveats in the documentation: https://pandas.pydata.org/pandas-docs/stable/user_guide/indexing.html#returning-a-view-versus-a-copy\n",
            "  after removing the cwd from sys.path.\n"
          ],
          "name": "stderr"
        }
      ]
    },
    {
      "cell_type": "code",
      "metadata": {
        "id": "iP2XyTQB_Bc5",
        "colab": {
          "base_uri": "https://localhost:8080/",
          "height": 419
        },
        "outputId": "bb509851-6678-46eb-a5f5-6541338f325d"
      },
      "source": [
        "courses"
      ],
      "execution_count": 31,
      "outputs": [
        {
          "output_type": "execute_result",
          "data": {
            "text/html": [
              "<div>\n",
              "<style scoped>\n",
              "    .dataframe tbody tr th:only-of-type {\n",
              "        vertical-align: middle;\n",
              "    }\n",
              "\n",
              "    .dataframe tbody tr th {\n",
              "        vertical-align: top;\n",
              "    }\n",
              "\n",
              "    .dataframe thead th {\n",
              "        text-align: right;\n",
              "    }\n",
              "</style>\n",
              "<table border=\"1\" class=\"dataframe\">\n",
              "  <thead>\n",
              "    <tr style=\"text-align: right;\">\n",
              "      <th></th>\n",
              "      <th>descr</th>\n",
              "      <th>direction</th>\n",
              "    </tr>\n",
              "  </thead>\n",
              "  <tbody>\n",
              "    <tr>\n",
              "      <th>0</th>\n",
              "      <td>['interested', 'increasing', 'knowledge', 'big...</td>\n",
              "      <td>0</td>\n",
              "    </tr>\n",
              "    <tr>\n",
              "      <th>1</th>\n",
              "      <td>['ever', 'heard', 'technologies', 'hdfs', 'map...</td>\n",
              "      <td>0</td>\n",
              "    </tr>\n",
              "    <tr>\n",
              "      <th>2</th>\n",
              "      <td>['course', 'gives', 'context', 'experience', '...</td>\n",
              "      <td>0</td>\n",
              "    </tr>\n",
              "    <tr>\n",
              "      <th>3</th>\n",
              "      <td>['course', 'introduces', 'core', 'concepts', '...</td>\n",
              "      <td>0</td>\n",
              "    </tr>\n",
              "    <tr>\n",
              "      <th>4</th>\n",
              "      <td>['welcome', 'decision', 'making', 'course', 'l...</td>\n",
              "      <td>0</td>\n",
              "    </tr>\n",
              "    <tr>\n",
              "      <th>...</th>\n",
              "      <td>...</td>\n",
              "      <td>...</td>\n",
              "    </tr>\n",
              "    <tr>\n",
              "      <th>3210</th>\n",
              "      <td>['goal', 'course', 'equip', 'learners', 'safel...</td>\n",
              "      <td>16</td>\n",
              "    </tr>\n",
              "    <tr>\n",
              "      <th>3211</th>\n",
              "      <td>['college', 'confusing', 'intimidating', 'help...</td>\n",
              "      <td>16</td>\n",
              "    </tr>\n",
              "    <tr>\n",
              "      <th>3212</th>\n",
              "      <td>['course', 'early', 'career', 'researchers', '...</td>\n",
              "      <td>16</td>\n",
              "    </tr>\n",
              "    <tr>\n",
              "      <th>3213</th>\n",
              "      <td>['around', 'world', 'increasingly', 'socially'...</td>\n",
              "      <td>16</td>\n",
              "    </tr>\n",
              "    <tr>\n",
              "      <th>3214</th>\n",
              "      <td>['course', 'multidisciplinary', 'nature', 'aim...</td>\n",
              "      <td>16</td>\n",
              "    </tr>\n",
              "  </tbody>\n",
              "</table>\n",
              "<p>3205 rows × 2 columns</p>\n",
              "</div>"
            ],
            "text/plain": [
              "                                                  descr  direction\n",
              "0     ['interested', 'increasing', 'knowledge', 'big...          0\n",
              "1     ['ever', 'heard', 'technologies', 'hdfs', 'map...          0\n",
              "2     ['course', 'gives', 'context', 'experience', '...          0\n",
              "3     ['course', 'introduces', 'core', 'concepts', '...          0\n",
              "4     ['welcome', 'decision', 'making', 'course', 'l...          0\n",
              "...                                                 ...        ...\n",
              "3210  ['goal', 'course', 'equip', 'learners', 'safel...         16\n",
              "3211  ['college', 'confusing', 'intimidating', 'help...         16\n",
              "3212  ['course', 'early', 'career', 'researchers', '...         16\n",
              "3213  ['around', 'world', 'increasingly', 'socially'...         16\n",
              "3214  ['course', 'multidisciplinary', 'nature', 'aim...         16\n",
              "\n",
              "[3205 rows x 2 columns]"
            ]
          },
          "metadata": {
            "tags": []
          },
          "execution_count": 31
        }
      ]
    },
    {
      "cell_type": "code",
      "metadata": {
        "id": "qI1HO9Rhtfcz"
      },
      "source": [
        "# Данные для анализа - направление и описание\n",
        "X=courses['descr'].values\n",
        "y=courses['direction'].values"
      ],
      "execution_count": 32,
      "outputs": []
    },
    {
      "cell_type": "code",
      "metadata": {
        "id": "eUtgeWqF1DpX"
      },
      "source": [
        "# Класс для анализа. Используем TF-IDF трансформацию и NB классификатор по умолчанию.\n",
        "class Classifier():\n",
        "  def __init__(self,X,y,model = None):\n",
        "    self.model=model or nbyes.ComplementNB()\n",
        "    # Разделим выборку на тренировочную и проверочную\n",
        "    self.X_train, self.X_test, self.y_train, self.y_test = train_test_split(X, y, test_size=.15, random_state=33)\n",
        "    # Трансформируем данные и наполним словарь\n",
        "    self.vectorizer = TfidfVectorizer(ngram_range = (1,2))\n",
        "    # Convert a collection of raw documents to a matrix of TF-IDF features.\n",
        "    self.X_train = self.vectorizer.fit_transform(self.X_train)\n",
        "    # Tf-idf-weighted document-term matrix\n",
        "    self.X_test = self.vectorizer.transform(self.X_test)\n",
        "    self.future_names = self.vectorizer.get_feature_names()\n",
        "    # Тренируем модель\n",
        "    self.model.fit(self.X_train, self.y_train)\n",
        "\n",
        "  def classify(self, text):\n",
        "    text_counts = self.vectorizer.transform(text)\n",
        "    cls=self.model.predict(text_counts)\n",
        "    self.predictions = encoders[\"direction\"].inverse_transform(cls)\n",
        "    self.predictions_c = self.model.predict_proba(text_counts)\n",
        "    print(f'Predictions: {self.predictions}')\n",
        "    print(f'Predictions for all classes: {self.predictions_c}')\n",
        "    return self.predictions\n",
        "  \n",
        "  def getReport(self):\n",
        "    self.y_predictions = self.model.predict(self.X_test)\n",
        "    print(classification_report(self.y_test, self.y_predictions))"
      ],
      "execution_count": 36,
      "outputs": []
    },
    {
      "cell_type": "code",
      "metadata": {
        "id": "eIrC7tTFSY3c",
        "colab": {
          "base_uri": "https://localhost:8080/"
        },
        "outputId": "a6b9e585-ea31-464a-8ab4-948b4feca58e"
      },
      "source": [
        "# Показатели модели\n",
        "# accuracy — доля правильных ответов алгоритма\n",
        "# Для оценки качества работы алгоритма на каждом из классов по отдельности введем метрики precision (точность) и recall (полнота)\n",
        "model_nb = Classifier(X,y)\n",
        "model_nb.getReport()"
      ],
      "execution_count": 37,
      "outputs": [
        {
          "output_type": "stream",
          "text": [
            "              precision    recall  f1-score   support\n",
            "\n",
            "           0       0.09      0.05      0.07        37\n",
            "           1       0.00      0.00      0.00         5\n",
            "           2       0.18      0.19      0.18        59\n",
            "           3       0.18      0.12      0.15        16\n",
            "           4       0.00      0.00      0.00         5\n",
            "           5       0.06      0.04      0.05        52\n",
            "           6       0.00      0.00      0.00        15\n",
            "           7       0.00      0.00      0.00         1\n",
            "           8       0.00      0.00      0.00        18\n",
            "           9       0.30      0.57      0.39       119\n",
            "          10       0.39      0.30      0.34        90\n",
            "          11       0.11      0.06      0.07        18\n",
            "          12       0.00      0.00      0.00         2\n",
            "          13       0.00      0.00      0.00        10\n",
            "          14       0.00      0.00      0.00        17\n",
            "          15       0.00      0.00      0.00         2\n",
            "          16       0.00      0.00      0.00        15\n",
            "\n",
            "    accuracy                           0.23       481\n",
            "   macro avg       0.08      0.08      0.07       481\n",
            "weighted avg       0.19      0.23      0.20       481\n",
            "\n"
          ],
          "name": "stdout"
        },
        {
          "output_type": "stream",
          "text": [
            "/usr/local/lib/python3.7/dist-packages/sklearn/metrics/_classification.py:1272: UndefinedMetricWarning: Precision and F-score are ill-defined and being set to 0.0 in labels with no predicted samples. Use `zero_division` parameter to control this behavior.\n",
            "  _warn_prf(average, modifier, msg_start, len(result))\n"
          ],
          "name": "stderr"
        }
      ]
    },
    {
      "cell_type": "code",
      "metadata": {
        "id": "IDsouFfBHSXe",
        "colab": {
          "base_uri": "https://localhost:8080/",
          "height": 374
        },
        "outputId": "31bf090a-2e55-447b-a344-e4901cb844f0"
      },
      "source": [
        "# Отобразим данные тестовых предсказаний\n",
        "plt.figure(figsize=(12, 6))\n",
        "plt.hist(model_nb.y_predictions, density=True)\n",
        "plt.show()"
      ],
      "execution_count": 38,
      "outputs": [
        {
          "output_type": "display_data",
          "data": {
            "image/png": "[encoded data removed]",
            "text/plain": [
              "<Figure size 864x432 with 1 Axes>"
            ]
          },
          "metadata": {
            "tags": [],
            "needs_background": "light"
          }
        }
      ]
    },
    {
      "cell_type": "code",
      "metadata": {
        "id": "YA7_MjY8Hv2Z",
        "colab": {
          "base_uri": "https://localhost:8080/",
          "height": 483
        },
        "outputId": "fbcffc83-4974-449f-da87-829d1ebd8cd9"
      },
      "source": [
        "# Отобразим разность предсказаний на гистограмме\n",
        "diff = model_nb.y_predictions - model_nb.y_test\n",
        "plt.figure(figsize=(15, 8))\n",
        "plt.hist(diff, bins=50, density=True)\n",
        "plt.show()"
      ],
      "execution_count": 39,
      "outputs": [
        {
          "output_type": "display_data",
          "data": {
            "image/png": "[encoded data removed]",
            "text/plain": [
              "<Figure size 1080x576 with 1 Axes>"
            ]
          },
          "metadata": {
            "tags": [],
            "needs_background": "light"
          }
        }
      ]
    },
    {
      "cell_type": "code",
      "metadata": {
        "id": "96tDrUOBmiiy",
        "colab": {
          "base_uri": "https://localhost:8080/"
        },
        "outputId": "fa50f41a-dda1-47e0-cf78-d96d37349740"
      },
      "source": [
        "# Показатели отчета не убедительные. Попробуем построить классификатор по модели KNN \n",
        "from sklearn.neighbors import KNeighborsClassifier\n",
        "from sklearn.model_selection import GridSearchCV\n",
        "knn = KNeighborsClassifier()\n",
        "# Зададим сетку - среди каких значений выбирать наилучший параметр.\n",
        "knn_grid = {'n_neighbors': np.array(np.linspace(1, 100, 100), dtype='int')}\n",
        "\n",
        "# Создаем объект кросс-валидации\n",
        "gs = GridSearchCV(knn, knn_grid, cv=5)\n",
        "\n",
        "# Обучаем его\n",
        "model_knn=Classifier(X,y,model=gs)"
      ],
      "execution_count": 40,
      "outputs": [
        {
          "output_type": "stream",
          "text": [
            "/usr/local/lib/python3.7/dist-packages/sklearn/model_selection/_split.py:667: UserWarning: The least populated class in y has only 1 members, which is less than n_splits=5.\n",
            "  % (min_groups, self.n_splits)), UserWarning)\n"
          ],
          "name": "stderr"
        }
      ]
    },
    {
      "cell_type": "code",
      "metadata": {
        "id": "HQCGMfvfm-wA",
        "colab": {
          "base_uri": "https://localhost:8080/",
          "height": 405
        },
        "outputId": "535a1c5d-fd59-4134-d601-e30be4bef312"
      },
      "source": [
        "def grid_plot(x, y, x_label, title, y_label='кросс-валидация'):\n",
        "    plt.figure(figsize=(12, 6))\n",
        "    plt.grid(True)\n",
        "    plt.plot(x, y, 'go-')\n",
        "    plt.xlabel(x_label)\n",
        "    plt.ylabel(y_label)\n",
        "    plt.title(title)\n",
        "grid_plot(knn_grid['n_neighbors'], model_knn.model.cv_results_['mean_test_score'], 'n_neighbors', 'KNeighborsClassifier')"
      ],
      "execution_count": 41,
      "outputs": [
        {
          "output_type": "display_data",
          "data": {
            "image/png": "[encoded data removed]",
            "text/plain": [
              "<Figure size 864x432 with 1 Axes>"
            ]
          },
          "metadata": {
            "tags": [],
            "needs_background": "light"
          }
        }
      ]
    },
    {
      "cell_type": "code",
      "metadata": {
        "id": "9oA81S4snPum",
        "colab": {
          "base_uri": "https://localhost:8080/"
        },
        "outputId": "94487938-74b9-42e7-8a70-a77473f33496"
      },
      "source": [
        "# Лучшие параметры\n",
        "model_knn.model.best_params_, model_knn.model.best_score_"
      ],
      "execution_count": 42,
      "outputs": [
        {
          "output_type": "execute_result",
          "data": {
            "text/plain": [
              "({'n_neighbors': 63}, 0.3737176200755532)"
            ]
          },
          "metadata": {
            "tags": []
          },
          "execution_count": 42
        }
      ]
    },
    {
      "cell_type": "code",
      "metadata": {
        "id": "XcSBPi27nlT-",
        "colab": {
          "base_uri": "https://localhost:8080/"
        },
        "outputId": "2faedb8b-c53d-4629-9f43-6053e2b66666"
      },
      "source": [
        "# Выполним тренировку классификатора с лучшим параметром\n",
        "clf_knn = KNeighborsClassifier(n_neighbors=63)\n",
        "model_knn=Classifier(X,y,model=clf_knn)\n",
        "y_knn = model_knn.model.predict(model_knn.X_test)\n",
        "model_knn.y_predictions=y_knn\n",
        "y_knn"
      ],
      "execution_count": 44,
      "outputs": [
        {
          "output_type": "execute_result",
          "data": {
            "text/plain": [
              "array([10, 10, 10, 10,  0,  9, 10,  9, 10,  2,  9,  9,  9,  9,  9,  9,  0,\n",
              "        9, 10,  9, 10,  5,  9,  2,  3, 10,  9,  9, 10,  3,  9,  2,  9, 10,\n",
              "        9,  4,  9,  9, 10,  2,  9,  2, 10,  9,  0,  9,  9,  9, 10,  9,  4,\n",
              "        9,  2,  2,  9,  9,  9,  2,  9, 10,  9,  2,  2,  9, 10,  9,  0,  6,\n",
              "        2,  2,  9,  9, 10,  9,  9,  5,  2,  9,  6,  9,  2,  9, 10,  9,  5,\n",
              "        9, 10,  6,  2,  5,  2,  9,  9,  9,  2,  9,  9,  9,  9,  9,  9,  0,\n",
              "        9,  2,  9, 10,  2,  9, 10,  4,  0,  9,  9,  6,  9,  9,  0,  6,  9,\n",
              "        9,  2,  9,  9,  9, 10,  9, 11,  9,  9, 10,  9,  2,  2,  9, 10, 10,\n",
              "        9,  9,  9, 10,  9, 10,  2,  9,  9,  4,  9,  9, 10, 10,  9, 10,  2,\n",
              "        9,  9,  9, 10,  9, 11,  2,  2,  0, 10, 10,  6,  2,  9,  9, 10,  6,\n",
              "        9,  9,  2,  3,  9,  2,  9, 10,  9,  0,  2,  2,  4,  9, 10,  9,  2,\n",
              "       10, 10,  9,  3,  9,  9, 10,  5, 10, 10,  9,  2,  9,  9,  2,  9, 10,\n",
              "       10, 10,  2,  9,  9, 10, 10,  2,  9,  9,  9,  9,  9,  9,  0,  2, 10,\n",
              "        9,  9,  4,  9,  9,  6, 10, 10, 10, 10,  3,  9,  9,  3,  3,  9,  0,\n",
              "        4,  9, 10,  9,  9,  9, 10,  9,  2,  4, 10,  2, 10,  5,  2,  9,  9,\n",
              "        9,  9,  9,  9,  2,  2,  2,  6,  9,  9,  9,  9,  9,  5,  5,  2,  9,\n",
              "        9,  9,  2,  9,  2,  9,  9,  2,  2,  2, 10,  9,  2, 10,  8, 10,  2,\n",
              "       10,  9,  3,  5,  2,  2,  9,  0,  9, 10,  0,  9,  2,  2,  2,  2,  9,\n",
              "        9,  2,  9,  9,  9,  9,  9,  9,  9, 10,  9, 10, 10,  9,  4, 10,  9,\n",
              "        5,  9,  9, 11,  3,  5,  0,  0,  9,  5,  9,  9,  3,  9,  6,  2,  6,\n",
              "        2,  6,  9,  4,  2,  2,  9, 10,  9,  2,  9,  9,  9,  9, 10,  5,  2,\n",
              "       10,  4,  9, 10,  9,  9,  2,  9,  9, 10,  9, 10,  9,  9, 10,  9, 10,\n",
              "        9,  5,  9,  0,  9,  9,  9,  9, 10,  9, 10, 10,  3,  9, 10,  9,  2,\n",
              "        2, 10,  9,  9,  6, 10, 10,  2, 10,  2,  9,  9, 10, 10,  3,  2,  2,\n",
              "        9,  9,  8, 10,  9,  9,  2,  9,  2,  9,  9,  9,  9,  2,  3,  2,  6,\n",
              "        2,  9,  2,  2,  9,  6,  9,  9,  2,  9, 10,  9,  3,  9,  5,  9,  9,\n",
              "        5,  9, 10,  2,  2,  3,  3,  6,  2,  9,  6,  6, 10,  9,  9,  9, 10,\n",
              "        9,  9,  0,  9,  9, 10, 10,  9,  0,  2, 10,  9,  9, 10,  2,  2,  9,\n",
              "        4, 10,  9,  2,  2])"
            ]
          },
          "metadata": {
            "tags": []
          },
          "execution_count": 44
        }
      ]
    },
    {
      "cell_type": "code",
      "metadata": {
        "id": "u8P3YLWKnw2N",
        "colab": {
          "base_uri": "https://localhost:8080/"
        },
        "outputId": "20be9ee4-0508-40ba-99b0-ea7b089ca68e"
      },
      "source": [
        "# Посмотрим на метрики качества\n",
        "print('Модель KNN')\n",
        "model_knn.getReport()\n",
        "print('Модель NB')\n",
        "model_nb.getReport()"
      ],
      "execution_count": 47,
      "outputs": [
        {
          "output_type": "stream",
          "text": [
            "Модель KNN\n",
            "              precision    recall  f1-score   support\n",
            "\n",
            "           0       0.33      0.16      0.22        37\n",
            "           1       0.00      0.00      0.00         5\n",
            "           2       0.31      0.46      0.37        59\n",
            "           3       0.44      0.44      0.44        16\n",
            "           4       0.33      0.80      0.47         5\n",
            "           5       0.19      0.06      0.09        52\n",
            "           6       0.11      0.13      0.12        15\n",
            "           7       0.00      0.00      0.00         1\n",
            "           8       0.50      0.06      0.10        18\n",
            "           9       0.38      0.69      0.49       119\n",
            "          10       0.43      0.44      0.44        90\n",
            "          11       0.67      0.11      0.19        18\n",
            "          12       0.00      0.00      0.00         2\n",
            "          13       0.00      0.00      0.00        10\n",
            "          14       0.00      0.00      0.00        17\n",
            "          15       0.00      0.00      0.00         2\n",
            "          16       0.00      0.00      0.00        15\n",
            "\n",
            "    accuracy                           0.36       481\n",
            "   macro avg       0.22      0.20      0.17       481\n",
            "weighted avg       0.32      0.36      0.31       481\n",
            "\n",
            "Модель NB\n",
            "              precision    recall  f1-score   support\n",
            "\n",
            "           0       0.09      0.05      0.07        37\n",
            "           1       0.00      0.00      0.00         5\n",
            "           2       0.18      0.19      0.18        59\n",
            "           3       0.18      0.12      0.15        16\n",
            "           4       0.00      0.00      0.00         5\n",
            "           5       0.06      0.04      0.05        52\n",
            "           6       0.00      0.00      0.00        15\n",
            "           7       0.00      0.00      0.00         1\n",
            "           8       0.00      0.00      0.00        18\n",
            "           9       0.30      0.57      0.39       119\n",
            "          10       0.39      0.30      0.34        90\n",
            "          11       0.11      0.06      0.07        18\n",
            "          12       0.00      0.00      0.00         2\n",
            "          13       0.00      0.00      0.00        10\n",
            "          14       0.00      0.00      0.00        17\n",
            "          15       0.00      0.00      0.00         2\n",
            "          16       0.00      0.00      0.00        15\n",
            "\n",
            "    accuracy                           0.23       481\n",
            "   macro avg       0.08      0.08      0.07       481\n",
            "weighted avg       0.19      0.23      0.20       481\n",
            "\n"
          ],
          "name": "stdout"
        },
        {
          "output_type": "stream",
          "text": [
            "/usr/local/lib/python3.7/dist-packages/sklearn/metrics/_classification.py:1272: UndefinedMetricWarning: Precision and F-score are ill-defined and being set to 0.0 in labels with no predicted samples. Use `zero_division` parameter to control this behavior.\n",
            "  _warn_prf(average, modifier, msg_start, len(result))\n"
          ],
          "name": "stderr"
        }
      ]
    },
    {
      "cell_type": "markdown",
      "metadata": {
        "id": "8fpBGZRoGFEM"
      },
      "source": [
        "Как видно, результат улучшился, но не настолько как бы нам хотелось. Делаем вывод, что проблема с данными, а именно их недостаточностью/не уникальностью для каждого класса."
      ]
    },
    {
      "cell_type": "code",
      "metadata": {
        "id": "RZM0kNIqVQjA",
        "colab": {
          "base_uri": "https://localhost:8080/"
        },
        "outputId": "f5dac3b5-341e-4e24-fdd2-c6dfb5e0164a"
      },
      "source": [
        "# Выполним классификацию по запросу\n",
        "text = ['i want to learn cloud computing']\n",
        "model_knn.classify(text)\n",
        "print(model_knn.predictions)\n"
      ],
      "execution_count": 59,
      "outputs": [
        {
          "output_type": "stream",
          "text": [
            "Predictions: ['cloud computing']\n",
            "Predictions for all classes: [[0.06349206 0.         0.41269841 0.03174603 0.         0.14285714\n",
            "  0.         0.         0.04761905 0.12698413 0.12698413 0.03174603\n",
            "  0.         0.         0.         0.         0.01587302]]\n",
            "['cloud computing']\n"
          ],
          "name": "stdout"
        }
      ]
    },
    {
      "cell_type": "code",
      "metadata": {
        "id": "yCswllbMT3j3",
        "colab": {
          "base_uri": "https://localhost:8080/",
          "height": 359
        },
        "outputId": "a83c1df8-bf43-45c2-89a9-b63b160a3618"
      },
      "source": [
        "# На основе релевантности направлений, сформируем предложение курсов, учитывая их рейтинг и оценки\n",
        "df_all.loc[df_all['direction']==model_knn.predictions[0]].sort_values(['marks','raiting'], ascending=False).head(10)"
      ],
      "execution_count": 60,
      "outputs": [
        {
          "output_type": "execute_result",
          "data": {
            "text/html": [
              "<div>\n",
              "<style scoped>\n",
              "    .dataframe tbody tr th:only-of-type {\n",
              "        vertical-align: middle;\n",
              "    }\n",
              "\n",
              "    .dataframe tbody tr th {\n",
              "        vertical-align: top;\n",
              "    }\n",
              "\n",
              "    .dataframe thead th {\n",
              "        text-align: right;\n",
              "    }\n",
              "</style>\n",
              "<table border=\"1\" class=\"dataframe\">\n",
              "  <thead>\n",
              "    <tr style=\"text-align: right;\">\n",
              "      <th></th>\n",
              "      <th>title</th>\n",
              "      <th>descr</th>\n",
              "      <th>marks</th>\n",
              "      <th>raiting</th>\n",
              "      <th>url</th>\n",
              "      <th>direction</th>\n",
              "      <th>words count</th>\n",
              "    </tr>\n",
              "  </thead>\n",
              "  <tbody>\n",
              "    <tr>\n",
              "      <th>490</th>\n",
              "      <td>The Bits and Bytes of Computer Networking</td>\n",
              "      <td>['course', 'designed', 'provide', 'full', 'ove...</td>\n",
              "      <td>28880</td>\n",
              "      <td>4.7</td>\n",
              "      <td>https://www.coursera.org/learn/computer-networ...</td>\n",
              "      <td>cloud computing</td>\n",
              "      <td>665</td>\n",
              "    </tr>\n",
              "    <tr>\n",
              "      <th>282</th>\n",
              "      <td>Tools for Data Science</td>\n",
              "      <td>['popular', 'data', 'science', 'tools', 'use',...</td>\n",
              "      <td>21329</td>\n",
              "      <td>4.5</td>\n",
              "      <td>https://www.coursera.org/learn/open-source-too...</td>\n",
              "      <td>cloud computing</td>\n",
              "      <td>626</td>\n",
              "    </tr>\n",
              "    <tr>\n",
              "      <th>296</th>\n",
              "      <td>Essential Google Cloud Infrastructure: Foundation</td>\n",
              "      <td>['accelerated', 'course', 'introduces', 'parti...</td>\n",
              "      <td>14717</td>\n",
              "      <td>4.7</td>\n",
              "      <td>https://www.coursera.org/learn/gcp-infrastruct...</td>\n",
              "      <td>cloud computing</td>\n",
              "      <td>1170</td>\n",
              "    </tr>\n",
              "    <tr>\n",
              "      <th>534</th>\n",
              "      <td>System Administration and IT Infrastructure Se...</td>\n",
              "      <td>['course', 'transition', 'working', 'single', ...</td>\n",
              "      <td>14304</td>\n",
              "      <td>4.7</td>\n",
              "      <td>https://www.coursera.org/learn/system-administ...</td>\n",
              "      <td>cloud computing</td>\n",
              "      <td>1322</td>\n",
              "    </tr>\n",
              "    <tr>\n",
              "      <th>291</th>\n",
              "      <td>AWS Fundamentals: Going Cloud-Native</td>\n",
              "      <td>['course', 'introduce', 'amazon', 'web', 'serv...</td>\n",
              "      <td>12419</td>\n",
              "      <td>4.7</td>\n",
              "      <td>https://www.coursera.org/learn/aws-fundamental...</td>\n",
              "      <td>cloud computing</td>\n",
              "      <td>1649</td>\n",
              "    </tr>\n",
              "    <tr>\n",
              "      <th>297</th>\n",
              "      <td>Algorithmic Toolbox</td>\n",
              "      <td>['course', 'covers', 'basic', 'algorithmic', '...</td>\n",
              "      <td>10594</td>\n",
              "      <td>4.6</td>\n",
              "      <td>https://www.coursera.org/learn/algorithmic-too...</td>\n",
              "      <td>cloud computing</td>\n",
              "      <td>624</td>\n",
              "    </tr>\n",
              "    <tr>\n",
              "      <th>304</th>\n",
              "      <td>Essential Google Cloud Infrastructure: Core Se...</td>\n",
              "      <td>['accelerated', 'course', 'introduces', 'parti...</td>\n",
              "      <td>10170</td>\n",
              "      <td>4.7</td>\n",
              "      <td>https://www.coursera.org/learn/gcp-infrastruct...</td>\n",
              "      <td>cloud computing</td>\n",
              "      <td>1026</td>\n",
              "    </tr>\n",
              "    <tr>\n",
              "      <th>319</th>\n",
              "      <td>Introduction to Big Data</td>\n",
              "      <td>['interested', 'increasing', 'knowledge', 'big...</td>\n",
              "      <td>9666</td>\n",
              "      <td>4.6</td>\n",
              "      <td>https://www.coursera.org/learn/big-data-introd...</td>\n",
              "      <td>cloud computing</td>\n",
              "      <td>2535</td>\n",
              "    </tr>\n",
              "    <tr>\n",
              "      <th>312</th>\n",
              "      <td>Elastic Google Cloud Infrastructure: Scaling a...</td>\n",
              "      <td>['accelerated', 'course', 'introduces', 'parti...</td>\n",
              "      <td>8180</td>\n",
              "      <td>4.7</td>\n",
              "      <td>https://www.coursera.org/learn/gcp-infrastruct...</td>\n",
              "      <td>cloud computing</td>\n",
              "      <td>975</td>\n",
              "    </tr>\n",
              "    <tr>\n",
              "      <th>326</th>\n",
              "      <td>A Crash Course in Data Science</td>\n",
              "      <td>['definitely', 'heard', 'data', 'science', 'bi...</td>\n",
              "      <td>7542</td>\n",
              "      <td>4.5</td>\n",
              "      <td>https://www.coursera.org/learn/data-science-co...</td>\n",
              "      <td>cloud computing</td>\n",
              "      <td>1221</td>\n",
              "    </tr>\n",
              "  </tbody>\n",
              "</table>\n",
              "</div>"
            ],
            "text/plain": [
              "                                                 title  ... words count\n",
              "490          The Bits and Bytes of Computer Networking  ...         665\n",
              "282                             Tools for Data Science  ...         626\n",
              "296  Essential Google Cloud Infrastructure: Foundation  ...        1170\n",
              "534  System Administration and IT Infrastructure Se...  ...        1322\n",
              "291               AWS Fundamentals: Going Cloud-Native  ...        1649\n",
              "297                                Algorithmic Toolbox  ...         624\n",
              "304  Essential Google Cloud Infrastructure: Core Se...  ...        1026\n",
              "319                           Introduction to Big Data  ...        2535\n",
              "312  Elastic Google Cloud Infrastructure: Scaling a...  ...         975\n",
              "326                     A Crash Course in Data Science  ...        1221\n",
              "\n",
              "[10 rows x 7 columns]"
            ]
          },
          "metadata": {
            "tags": []
          },
          "execution_count": 60
        }
      ]
    }
  ]
}