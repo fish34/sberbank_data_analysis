{
  "nbformat": 4,
  "nbformat_minor": 0,
  "metadata": {
    "kernelspec": {
      "display_name": "Python 3",
      "language": "python",
      "name": "python3"
    },
    "language_info": {
      "codemirror_mode": {
        "name": "ipython",
        "version": 3
      },
      "file_extension": ".py",
      "mimetype": "text/x-python",
      "name": "python",
      "nbconvert_exporter": "python",
      "pygments_lexer": "ipython3",
      "version": "3.6.8"
    },
    "toc": {
      "base_numbering": 1,
      "nav_menu": {},
      "number_sections": true,
      "sideBar": true,
      "skip_h1_title": false,
      "title_cell": "Table of Contents",
      "title_sidebar": "Contents",
      "toc_cell": false,
      "toc_position": {},
      "toc_section_display": true,
      "toc_window_display": false
    },
    "colab": {
      "name": "data_parsing_intro.ipynb",
      "provenance": [],
      "collapsed_sections": [],
      "toc_visible": true,
      "include_colab_link": true
    },
    "widgets": {
      "application/vnd.jupyter.widget-state+json": {
        "24029dc9db87495ea216e0d6b5473f74": {
          "model_module": "@jupyter-widgets/controls",
          "model_name": "HBoxModel",
          "state": {
            "_view_name": "HBoxView",
            "_dom_classes": [],
            "_model_name": "HBoxModel",
            "_view_module": "@jupyter-widgets/controls",
            "_model_module_version": "1.5.0",
            "_view_count": null,
            "_view_module_version": "1.5.0",
            "box_style": "",
            "layout": "IPY_MODEL_7d5628b63555434d988ff92f56c09114",
            "_model_module": "@jupyter-widgets/controls",
            "children": [
              "IPY_MODEL_00255e98223c4a7db42fcec8beb58410",
              "IPY_MODEL_51f59cdf1bec49568ef7196c76cd0ab0"
            ]
          }
        },
        "7d5628b63555434d988ff92f56c09114": {
          "model_module": "@jupyter-widgets/base",
          "model_name": "LayoutModel",
          "state": {
            "_view_name": "LayoutView",
            "grid_template_rows": null,
            "right": null,
            "justify_content": null,
            "_view_module": "@jupyter-widgets/base",
            "overflow": null,
            "_model_module_version": "1.2.0",
            "_view_count": null,
            "flex_flow": null,
            "width": null,
            "min_width": null,
            "border": null,
            "align_items": null,
            "bottom": null,
            "_model_module": "@jupyter-widgets/base",
            "top": null,
            "grid_column": null,
            "overflow_y": null,
            "overflow_x": null,
            "grid_auto_flow": null,
            "grid_area": null,
            "grid_template_columns": null,
            "flex": null,
            "_model_name": "LayoutModel",
            "justify_items": null,
            "grid_row": null,
            "max_height": null,
            "align_content": null,
            "visibility": null,
            "align_self": null,
            "height": null,
            "min_height": null,
            "padding": null,
            "grid_auto_rows": null,
            "grid_gap": null,
            "max_width": null,
            "order": null,
            "_view_module_version": "1.2.0",
            "grid_template_areas": null,
            "object_position": null,
            "object_fit": null,
            "grid_auto_columns": null,
            "margin": null,
            "display": null,
            "left": null
          }
        },
        "00255e98223c4a7db42fcec8beb58410": {
          "model_module": "@jupyter-widgets/controls",
          "model_name": "FloatProgressModel",
          "state": {
            "_view_name": "ProgressView",
            "style": "IPY_MODEL_cb568aa801c64012a22075981918a4f6",
            "_dom_classes": [],
            "description": "",
            "_model_name": "FloatProgressModel",
            "bar_style": "success",
            "max": 1,
            "_view_module": "@jupyter-widgets/controls",
            "_model_module_version": "1.5.0",
            "value": 0,
            "_view_count": null,
            "_view_module_version": "1.5.0",
            "orientation": "horizontal",
            "min": 0,
            "description_tooltip": null,
            "_model_module": "@jupyter-widgets/controls",
            "layout": "IPY_MODEL_d6d0b647312d440ba38f5c20b91a47b9"
          }
        },
        "51f59cdf1bec49568ef7196c76cd0ab0": {
          "model_module": "@jupyter-widgets/controls",
          "model_name": "HTMLModel",
          "state": {
            "_view_name": "HTMLView",
            "style": "IPY_MODEL_560e2057b3394275a364703ddf8c8b51",
            "_dom_classes": [],
            "description": "",
            "_model_name": "HTMLModel",
            "placeholder": "​",
            "_view_module": "@jupyter-widgets/controls",
            "_model_module_version": "1.5.0",
            "value": " 0/0 [00:12&lt;?, ?it/s]",
            "_view_count": null,
            "_view_module_version": "1.5.0",
            "description_tooltip": null,
            "_model_module": "@jupyter-widgets/controls",
            "layout": "IPY_MODEL_9398ead606704f47b597411a44ae4718"
          }
        },
        "cb568aa801c64012a22075981918a4f6": {
          "model_module": "@jupyter-widgets/controls",
          "model_name": "ProgressStyleModel",
          "state": {
            "_view_name": "StyleView",
            "_model_name": "ProgressStyleModel",
            "description_width": "initial",
            "_view_module": "@jupyter-widgets/base",
            "_model_module_version": "1.5.0",
            "_view_count": null,
            "_view_module_version": "1.2.0",
            "bar_color": null,
            "_model_module": "@jupyter-widgets/controls"
          }
        },
        "d6d0b647312d440ba38f5c20b91a47b9": {
          "model_module": "@jupyter-widgets/base",
          "model_name": "LayoutModel",
          "state": {
            "_view_name": "LayoutView",
            "grid_template_rows": null,
            "right": null,
            "justify_content": null,
            "_view_module": "@jupyter-widgets/base",
            "overflow": null,
            "_model_module_version": "1.2.0",
            "_view_count": null,
            "flex_flow": null,
            "width": null,
            "min_width": null,
            "border": null,
            "align_items": null,
            "bottom": null,
            "_model_module": "@jupyter-widgets/base",
            "top": null,
            "grid_column": null,
            "overflow_y": null,
            "overflow_x": null,
            "grid_auto_flow": null,
            "grid_area": null,
            "grid_template_columns": null,
            "flex": null,
            "_model_name": "LayoutModel",
            "justify_items": null,
            "grid_row": null,
            "max_height": null,
            "align_content": null,
            "visibility": null,
            "align_self": null,
            "height": null,
            "min_height": null,
            "padding": null,
            "grid_auto_rows": null,
            "grid_gap": null,
            "max_width": null,
            "order": null,
            "_view_module_version": "1.2.0",
            "grid_template_areas": null,
            "object_position": null,
            "object_fit": null,
            "grid_auto_columns": null,
            "margin": null,
            "display": null,
            "left": null
          }
        },
        "560e2057b3394275a364703ddf8c8b51": {
          "model_module": "@jupyter-widgets/controls",
          "model_name": "DescriptionStyleModel",
          "state": {
            "_view_name": "StyleView",
            "_model_name": "DescriptionStyleModel",
            "description_width": "",
            "_view_module": "@jupyter-widgets/base",
            "_model_module_version": "1.5.0",
            "_view_count": null,
            "_view_module_version": "1.2.0",
            "_model_module": "@jupyter-widgets/controls"
          }
        },
        "9398ead606704f47b597411a44ae4718": {
          "model_module": "@jupyter-widgets/base",
          "model_name": "LayoutModel",
          "state": {
            "_view_name": "LayoutView",
            "grid_template_rows": null,
            "right": null,
            "justify_content": null,
            "_view_module": "@jupyter-widgets/base",
            "overflow": null,
            "_model_module_version": "1.2.0",
            "_view_count": null,
            "flex_flow": null,
            "width": null,
            "min_width": null,
            "border": null,
            "align_items": null,
            "bottom": null,
            "_model_module": "@jupyter-widgets/base",
            "top": null,
            "grid_column": null,
            "overflow_y": null,
            "overflow_x": null,
            "grid_auto_flow": null,
            "grid_area": null,
            "grid_template_columns": null,
            "flex": null,
            "_model_name": "LayoutModel",
            "justify_items": null,
            "grid_row": null,
            "max_height": null,
            "align_content": null,
            "visibility": null,
            "align_self": null,
            "height": null,
            "min_height": null,
            "padding": null,
            "grid_auto_rows": null,
            "grid_gap": null,
            "max_width": null,
            "order": null,
            "_view_module_version": "1.2.0",
            "grid_template_areas": null,
            "object_position": null,
            "object_fit": null,
            "grid_auto_columns": null,
            "margin": null,
            "display": null,
            "left": null
          }
        }
      }
    }
  },
  "cells": [
    {
      "cell_type": "markdown",
      "metadata": {
        "id": "view-in-github",
        "colab_type": "text"
      },
      "source": [
        "<a href=\"https://colab.research.google.com/github/fish34/sberbank_data_analysis/blob/master/HW%206/data_parsing_intro.ipynb\" target=\"_parent\"><img src=\"https://colab.research.google.com/assets/colab-badge.svg\" alt=\"Open In Colab\"/></a>"
      ]
    },
    {
      "cell_type": "markdown",
      "metadata": {
        "id": "HGySdhsKqdt4"
      },
      "source": [
        "# <p style=\"align: center;\"><img align=center src=\"https://i.morioh.com/201217/97aa18aa.webp\"  width=700></p>\n"
      ]
    },
    {
      "cell_type": "markdown",
      "metadata": {
        "id": "CbuIKvRBqdt8"
      },
      "source": [
        "# Библиотека requests"
      ]
    },
    {
      "cell_type": "code",
      "metadata": {
        "id": "0kIyxPG4qdt-"
      },
      "source": [
        "import requests\n",
        "\n",
        "URL = 'https://www.comicstreet.ru/collection/frontpage'\n",
        "page = requests.get(URL) # получаем объект страница"
      ],
      "execution_count": null,
      "outputs": []
    },
    {
      "cell_type": "code",
      "metadata": {
        "scrolled": true,
        "id": "gm_ZvxLnqdt_"
      },
      "source": [
        "page.text # взглянем на текст"
      ],
      "execution_count": null,
      "outputs": []
    },
    {
      "cell_type": "markdown",
      "metadata": {
        "id": "WwgbWjcEqduA"
      },
      "source": [
        "# BeautifulSoup "
      ]
    },
    {
      "cell_type": "code",
      "metadata": {
        "id": "TNx7EtHHqduB"
      },
      "source": [
        "import requests\n",
        "from bs4 import BeautifulSoup\n",
        "\n",
        "URL = 'https://www.comicstreet.ru/collection/frontpage'\n",
        "page = requests.get(URL)\n",
        "\n",
        "soup = BeautifulSoup(page.content, 'html.parser') # Получаем сайт в более приятном виде"
      ],
      "execution_count": null,
      "outputs": []
    },
    {
      "cell_type": "code",
      "metadata": {
        "scrolled": true,
        "id": "qPbOeI0HqduC"
      },
      "source": [
        "soup"
      ],
      "execution_count": null,
      "outputs": []
    },
    {
      "cell_type": "code",
      "metadata": {
        "id": "7D5KHzbfqduD"
      },
      "source": [
        "results = soup.find(id='insales-section-collection') # что-нибудь найдем"
      ],
      "execution_count": null,
      "outputs": []
    },
    {
      "cell_type": "code",
      "metadata": {
        "id": "GtOXwW3gqduE"
      },
      "source": [
        "results.prettify()[:1000]"
      ],
      "execution_count": null,
      "outputs": []
    },
    {
      "cell_type": "markdown",
      "metadata": {
        "id": "hqyclDfQqduF"
      },
      "source": [
        "Поиск элементов по классу "
      ]
    },
    {
      "cell_type": "code",
      "metadata": {
        "id": "6Sk865_NqduF",
        "colab": {
          "base_uri": "https://localhost:8080/"
        },
        "outputId": "15d79d11-df33-4463-b7cb-03a574db4e38"
      },
      "source": [
        "prices = results.find_all('span', class_='product_card-price')  # первый аргумент это элемент в HTML, второй это сам класс\n",
        "prices = [price.text for price in prices]\n",
        "prices[:5]"
      ],
      "execution_count": null,
      "outputs": [
        {
          "output_type": "execute_result",
          "data": {
            "text/plain": [
              "['1 790 руб', '710 руб', '1 150 руб', '460 руб', '400 руб']"
            ]
          },
          "metadata": {
            "tags": []
          },
          "execution_count": 7
        }
      ]
    },
    {
      "cell_type": "code",
      "metadata": {
        "id": "E7l_P957qduG",
        "colab": {
          "base_uri": "https://localhost:8080/"
        },
        "outputId": "4c5fe0f8-f207-4677-f94e-1e8e67019480"
      },
      "source": [
        "titles = results.find_all('div', class_='product_card-title')\n",
        "titles = [title.text for title in titles]\n",
        "titles[:5]"
      ],
      "execution_count": null,
      "outputs": [
        {
          "output_type": "execute_result",
          "data": {
            "text/plain": [
              "['Dark Souls. Полное издание',\n",
              " 'Оттенки магии. Стальной принц. Ночь кинжалов',\n",
              " 'Джессика Джонс. Пульс. Полное издание',\n",
              " 'Kingsman. Секретная служба',\n",
              " 'Структура Пыли']"
            ]
          },
          "metadata": {
            "tags": []
          },
          "execution_count": 8
        }
      ]
    },
    {
      "cell_type": "code",
      "metadata": {
        "id": "cVL8cI0qqduH",
        "colab": {
          "base_uri": "https://localhost:8080/",
          "height": 204
        },
        "outputId": "18aff76b-62d0-4395-d6bb-06163fff9500"
      },
      "source": [
        "import pandas as pd\n",
        "\n",
        "data_dict = {\"titles\" :titles,\n",
        "            \"price\": prices}\n",
        "\n",
        "parsed_data = pd.DataFrame(data_dict)\n",
        "parsed_data.head()"
      ],
      "execution_count": null,
      "outputs": [
        {
          "output_type": "execute_result",
          "data": {
            "text/html": [
              "<div>\n",
              "<style scoped>\n",
              "    .dataframe tbody tr th:only-of-type {\n",
              "        vertical-align: middle;\n",
              "    }\n",
              "\n",
              "    .dataframe tbody tr th {\n",
              "        vertical-align: top;\n",
              "    }\n",
              "\n",
              "    .dataframe thead th {\n",
              "        text-align: right;\n",
              "    }\n",
              "</style>\n",
              "<table border=\"1\" class=\"dataframe\">\n",
              "  <thead>\n",
              "    <tr style=\"text-align: right;\">\n",
              "      <th></th>\n",
              "      <th>titles</th>\n",
              "      <th>price</th>\n",
              "    </tr>\n",
              "  </thead>\n",
              "  <tbody>\n",
              "    <tr>\n",
              "      <th>0</th>\n",
              "      <td>Dark Souls. Полное издание</td>\n",
              "      <td>1 790 руб</td>\n",
              "    </tr>\n",
              "    <tr>\n",
              "      <th>1</th>\n",
              "      <td>Оттенки магии. Стальной принц. Ночь кинжалов</td>\n",
              "      <td>710 руб</td>\n",
              "    </tr>\n",
              "    <tr>\n",
              "      <th>2</th>\n",
              "      <td>Джессика Джонс. Пульс. Полное издание</td>\n",
              "      <td>1 150 руб</td>\n",
              "    </tr>\n",
              "    <tr>\n",
              "      <th>3</th>\n",
              "      <td>Kingsman. Секретная служба</td>\n",
              "      <td>460 руб</td>\n",
              "    </tr>\n",
              "    <tr>\n",
              "      <th>4</th>\n",
              "      <td>Структура Пыли</td>\n",
              "      <td>400 руб</td>\n",
              "    </tr>\n",
              "  </tbody>\n",
              "</table>\n",
              "</div>"
            ],
            "text/plain": [
              "                                         titles      price\n",
              "0                    Dark Souls. Полное издание  1 790 руб\n",
              "1  Оттенки магии. Стальной принц. Ночь кинжалов    710 руб\n",
              "2         Джессика Джонс. Пульс. Полное издание  1 150 руб\n",
              "3                    Kingsman. Секретная служба    460 руб\n",
              "4                                Структура Пыли    400 руб"
            ]
          },
          "metadata": {
            "tags": []
          },
          "execution_count": 9
        }
      ]
    },
    {
      "cell_type": "markdown",
      "metadata": {
        "id": "OLMaor1kqduI"
      },
      "source": [
        "# Библиотека Selenium"
      ]
    },
    {
      "cell_type": "code",
      "metadata": {
        "id": "YmgLc7iYqduI"
      },
      "source": [
        "!pip install selenium\n",
        "!pip install webdriver-manager\n",
        "\n",
        "# Может понадобиться еще:\n",
        "!pip install --upgrade ChromeDriver"
      ],
      "execution_count": null,
      "outputs": []
    },
    {
      "cell_type": "code",
      "metadata": {
        "id": "ODGIobhYqduJ"
      },
      "source": [
        "from selenium import webdriver\n",
        "from webdriver_manager.chrome import ChromeDriverManager"
      ],
      "execution_count": null,
      "outputs": []
    },
    {
      "cell_type": "code",
      "metadata": {
        "id": "7UoW7WNYqduJ"
      },
      "source": [
        "import time\n",
        "import pandas as pd\n",
        "from tqdm import tqdm"
      ],
      "execution_count": null,
      "outputs": []
    },
    {
      "cell_type": "code",
      "metadata": {
        "id": "9WuUJ9EWqduK"
      },
      "source": [
        "#Дополнительные\n",
        "\n",
        "from selenium.webdriver.common.by import By\n",
        "from selenium.webdriver.support.ui import WebDriverWait\n",
        "from selenium.webdriver.support import expected_conditions as EC"
      ],
      "execution_count": null,
      "outputs": []
    },
    {
      "cell_type": "markdown",
      "metadata": {
        "id": "U1JncSHaqduK"
      },
      "source": [
        "# Поиск элемента"
      ]
    },
    {
      "cell_type": "markdown",
      "metadata": {
        "id": "BqHsfqNAqduL"
      },
      "source": [
        "Существуют различные стратегии размещения элементов на странице. Вы можете использовать наиболее подходящий для вашего случая. Selenium предоставляет следующие методы для поиска элементов на странице:"
      ]
    },
    {
      "cell_type": "markdown",
      "metadata": {
        "id": "L7ikV3iZqduM"
      },
      "source": [
        "* find_element_by_id\n",
        "* find_element_by_name\n",
        "* find_element_by_xpath\n",
        "* find_element_by_link_text\n",
        "* find_element_by_partial_link_text\n",
        "* find_element_by_tag_name\n",
        "* find_element_by_class_name\n",
        "* find_element_by_css_selector"
      ]
    },
    {
      "cell_type": "markdown",
      "metadata": {
        "id": "ld_SFM9tqduM"
      },
      "source": [
        "Чтобы найти несколько элементов (эти методы вернут список):"
      ]
    },
    {
      "cell_type": "markdown",
      "metadata": {
        "id": "WXQTQGyAqduM"
      },
      "source": [
        "* find_elements_by_name\n",
        "* find_elements_by_xpath\n",
        "* find_elements_by_link_text\n",
        "* find_elements_by_partial_link_text\n",
        "* find_elements_by_tag_name\n",
        "* find_elements_by_class_name\n",
        "* find_elements_by_css_selector"
      ]
    },
    {
      "cell_type": "markdown",
      "metadata": {
        "id": "BCFvHIgyqduN"
      },
      "source": [
        "# Парсинг книг"
      ]
    },
    {
      "cell_type": "markdown",
      "metadata": {
        "id": "2WQkqc_6qduN"
      },
      "source": [
        "* https://www.chitai-gorod.ru/catalog/bestsell/\n",
        "\n",
        "\n",
        "* https://www.pingshiuanchua.com/blog/post/error-handling-in-selenium-on-python"
      ]
    },
    {
      "cell_type": "markdown",
      "metadata": {
        "id": "CtnCD3C5qduO"
      },
      "source": [
        "# Импорт и запуск webdriver"
      ]
    },
    {
      "cell_type": "code",
      "metadata": {
        "id": "wt_TfgyDqduO"
      },
      "source": [
        "from selenium import webdriver\n",
        "from webdriver_manager.chrome import ChromeDriverManager"
      ],
      "execution_count": null,
      "outputs": []
    },
    {
      "cell_type": "code",
      "metadata": {
        "id": "vNAFKtTm4UYL"
      },
      "source": [
        "!apt-get update"
      ],
      "execution_count": null,
      "outputs": []
    },
    {
      "cell_type": "code",
      "metadata": {
        "id": "0Zo6C8x_tfYq"
      },
      "source": [
        "!apt install chromium-chromedriver\n",
        "!cp /usr/lib/chromium-browser/chromedriver /usr/bin\n",
        "import sys\n",
        "sys.path.insert(0,'/usr/lib/chromium-browser/chromedriver')\n",
        "chrome_options = webdriver.ChromeOptions()"
      ],
      "execution_count": null,
      "outputs": []
    },
    {
      "cell_type": "code",
      "metadata": {
        "id": "y7Es1IRh4fxI"
      },
      "source": [
        "chrome_options.add_argument('--headless')\n",
        "chrome_options.add_argument('--no-sandbox')\n",
        "chrome_options.add_argument('--disable-dev-shm-usage')\n",
        "chrome_options.add_argument('--disable-extensions')\n",
        "chrome_options.add_argument('--profile-directory=Default')\n",
        "chrome_options.add_argument('--incognito')\n",
        "chrome_options.add_argument('--disable-plugins-discovery')\n",
        "browser = webdriver.Chrome('chromedriver',options=chrome_options)\n",
        "browser.delete_all_cookies()"
      ],
      "execution_count": null,
      "outputs": []
    },
    {
      "cell_type": "code",
      "metadata": {
        "id": "jkmmt5_8qduP"
      },
      "source": [
        "browser.get(\"https://www.google.com\") # Открываем ссылку"
      ],
      "execution_count": null,
      "outputs": []
    },
    {
      "cell_type": "markdown",
      "metadata": {
        "id": "pzI0QS3DqduQ"
      },
      "source": [
        "# Простая формула парсинга"
      ]
    },
    {
      "cell_type": "code",
      "metadata": {
        "id": "8OveQL3dqduQ"
      },
      "source": [
        "#url = 'https://www.comicstreet.ru/collection/frontpage'\n",
        "\n",
        "#path_CDM = '/Users/aleksey_ryabykh/.wdm/drivers/chromedriver/mac64/90.0.4430.24/chromedriver'\n",
        "#browser = webdriver.Chrome(path_CDM)    # Создаем сессию\n",
        "\n",
        "#browser.get(url) # Открываем страницу\n",
        "#time.sleep(2)  # Ждем 30 секунд\n",
        "#browser.quit()  # закрываем браузер после всех манипуляций"
      ],
      "execution_count": null,
      "outputs": []
    },
    {
      "cell_type": "markdown",
      "metadata": {
        "id": "T9NYnPuJqduR"
      },
      "source": [
        "# Стабилизирующая конструкция для работы try/except/finally"
      ]
    },
    {
      "cell_type": "code",
      "metadata": {
        "id": "6vwGjg9OqduR",
        "colab": {
          "base_uri": "https://localhost:8080/"
        },
        "outputId": "fb2f6520-628d-444e-8d56-4f0e3507c2af"
      },
      "source": [
        "try:\n",
        "    url = 'https://www.comicstreet.ru/collection/frontpage'\n",
        "    #browser = webdriver.Chrome(path_CDM)\n",
        "    browser.get(url) # Открываем страницу\n",
        "    \n",
        "except Exception:\n",
        "    print('Ошибка')\n",
        "    print(e)\n",
        "        \n",
        "finally:\n",
        "\n",
        "    time.sleep(10)  # Ждем 10 секунд\n",
        "    browser.quit()  # закрываем браузер после всех манипуляций\n",
        "    print('Закрыл')\n",
        "    "
      ],
      "execution_count": null,
      "outputs": [
        {
          "output_type": "stream",
          "text": [
            "Закрыл\n"
          ],
          "name": "stdout"
        }
      ]
    },
    {
      "cell_type": "markdown",
      "metadata": {
        "id": "rNGDfmc8qduS"
      },
      "source": [
        "# Спарсим первые данные"
      ]
    },
    {
      "cell_type": "code",
      "metadata": {
        "id": "Z_Omf58_qduS",
        "colab": {
          "base_uri": "https://localhost:8080/"
        },
        "outputId": "fbab8d63-a428-4134-b4b8-25c7d27cc25e"
      },
      "source": [
        "try:\n",
        "    url = 'https://www.comicstreet.ru/collection/frontpage'\n",
        "    browser = webdriver.Chrome('chromedriver',options=chrome_options)\n",
        "    browser.get(url) # Открываем страницу\n",
        "\n",
        "    \n",
        "    titles = browser.find_elements_by_xpath('//*[@class=\"product_card-title\"]/a')\n",
        "    \n",
        "    titles = [i.text for i in titles]\n",
        "    print(titles)\n",
        "    \n",
        "except Exception as e:\n",
        "    print('Ошибка')\n",
        "    print(e)\n",
        "    \n",
        "finally:\n",
        "\n",
        "    time.sleep(10)  # Ждем 10 секунд\n",
        "    browser.quit()  # закрываем браузер после всех манипуляций\n",
        "    print('Закрыл')\n",
        "  "
      ],
      "execution_count": null,
      "outputs": [
        {
          "output_type": "stream",
          "text": [
            "['Dark Souls. Полное издание', 'Оттенки магии. Стальной принц. Ночь кинжалов', 'Джессика Джонс. Пульс. Полное издание', 'Kingsman. Секретная служба', 'Структура Пыли', 'Человек-Паук / Дэдпул. Том 4. Дела серьёзные', 'Моби Дик', 'Бездомный бог. Том 15', 'Сердца Пандоры. Книга 2', 'Девушка из прачечной', 'Мемуары Ванитаса. Том 1', 'Карнаж: Максимум резни', 'Каратель против Меченого', 'Зимний Солдат. Вторые шансы', 'Ядерная Зима. Том 1', 'Том и Джерри №3 (2021)', 'Injustice. Боги среди нас. Год первый. Издание делюкс', 'Время приключений. Избранное. Том 3', 'Майор Гром № 100 (Обложка \"Афиша\")', 'Блондиана. Захватывающие комиксы о приключениях неунывающей блондинки. И ее котика', 'Стальной Алхимик. Книга 11', 'Наруто. Книга 2. Мост героя', '«Человек-Паук» Тодда МакФарлейна. Полное издание', 'Шельма и Гамбит. Замкнутый круг', '1984. Графическая адаптация', 'Вечно проё**ваюсь', 'Ветер в ивах', 'Быть вместе', 'Бэтмен. Эго', 'История вселенной Marvel #6', 'Видеоигры. Невероятные хроники игровой революции в комиксах', 'Азбука комиксиста. Как придумать и создать свой первый комикс', 'Супергерои Marvel. Официальная коллекция №56. Джессика Джонс', 'Экслибриум. Жизнь вторая. Том 3. Щепки', 'Сердца Пандоры. Книга 1', 'MARVEL: Странные истории', 'MARVEL: Что если?.. Звёзды Marvel стали Фантастической Четвёркой', 'Том и Джерри. Кошки-мышки', 'Скитания Эманон. Том 1', 'Скитания Эманон. Том 2', 'Синтелла. Робот Холокост', 'Сага. Делюкс-издание. Книга 2', 'Веномизация', 'Мастер Меча. Том 1. Битва древних', 'Наруто. Книга 1. Наруто Удзумаки', 'Могучий Тор. Тор-воитель', 'Аэро. Том 1. Затишье перед бурей', 'Сестра. Поэма в комиксе', 'Темные помыслы', 'Джузеппе Бергман, т. 3', 'Гостья М. Том 2', 'Страна чудес смертников. Том 13', 'Тетрадь дружбы Нацумэ. Том 2', 'Мстители Западного побережья. Поиски Вижна', 'Психушка Джокера. Загадочник. Карточный домик', 'Джокер. Убийственная улыбка', 'Чёрный Молот ’45', 'Веном. Рождение', 'Война vs Детство', 'Мир игры The Last Of Us']\n",
            "Закрыл\n"
          ],
          "name": "stdout"
        }
      ]
    },
    {
      "cell_type": "markdown",
      "metadata": {
        "id": "ge2rAHyEqduT"
      },
      "source": [
        "# Парсим теперь все! Название/Цена/Описание"
      ]
    },
    {
      "cell_type": "code",
      "metadata": {
        "id": "pXhpT19FqduT",
        "colab": {
          "base_uri": "https://localhost:8080/"
        },
        "outputId": "1238b3d3-5fae-4179-c744-384af6c897db"
      },
      "source": [
        "try:\n",
        "\n",
        "    browser = webdriver.Chrome('chromedriver',options=chrome_options)\n",
        "    browser.get('https://www.comicstreet.ru/collection/frontpage') #Открыл \n",
        "    time.sleep(1)\n",
        "  \n",
        "    titles = browser.find_elements_by_xpath('//*[@class=\"product_card-title\"]/a')\n",
        "\n",
        "    #print(len(titles))\n",
        "    prices = browser.find_elements_by_xpath('//*[@class=\"product_card-prices\"]/span')\n",
        "    print(len(titles))\n",
        "    \n",
        "    #time.sleep(1)\n",
        "    titles = [i.text for i in titles]\n",
        "    prices = [i.text for i in prices]\n",
        "    \n",
        "except ElementClickInterceptedException:\n",
        "    print('Ошибка')\n",
        "    print(e)\n",
        "    \n",
        "finally:\n",
        "    # успеваем скопировать код за 30 секунд\n",
        "    time.sleep(1)\n",
        "    # закрываем браузер после всех манипуляций\n",
        "    browser.quit()\n",
        "    print('Закрыл')"
      ],
      "execution_count": null,
      "outputs": [
        {
          "output_type": "stream",
          "text": [
            "60\n",
            "Закрыл\n"
          ],
          "name": "stdout"
        }
      ]
    },
    {
      "cell_type": "code",
      "metadata": {
        "scrolled": true,
        "id": "oOPxCL96qduV",
        "colab": {
          "base_uri": "https://localhost:8080/",
          "height": 204
        },
        "outputId": "85e9960f-f34d-41d3-90e0-f10fc839b707"
      },
      "source": [
        "data_dict = {\"titles\" :titles,\n",
        "            \"price\": prices}\n",
        "\n",
        "parsed_data = pd.DataFrame(data_dict)\n",
        "parsed_data.head()"
      ],
      "execution_count": null,
      "outputs": [
        {
          "output_type": "execute_result",
          "data": {
            "text/html": [
              "<div>\n",
              "<style scoped>\n",
              "    .dataframe tbody tr th:only-of-type {\n",
              "        vertical-align: middle;\n",
              "    }\n",
              "\n",
              "    .dataframe tbody tr th {\n",
              "        vertical-align: top;\n",
              "    }\n",
              "\n",
              "    .dataframe thead th {\n",
              "        text-align: right;\n",
              "    }\n",
              "</style>\n",
              "<table border=\"1\" class=\"dataframe\">\n",
              "  <thead>\n",
              "    <tr style=\"text-align: right;\">\n",
              "      <th></th>\n",
              "      <th>titles</th>\n",
              "      <th>price</th>\n",
              "    </tr>\n",
              "  </thead>\n",
              "  <tbody>\n",
              "    <tr>\n",
              "      <th>0</th>\n",
              "      <td>Dark Souls. Полное издание</td>\n",
              "      <td>1 790 руб</td>\n",
              "    </tr>\n",
              "    <tr>\n",
              "      <th>1</th>\n",
              "      <td>Оттенки магии. Стальной принц. Ночь кинжалов</td>\n",
              "      <td>710 руб</td>\n",
              "    </tr>\n",
              "    <tr>\n",
              "      <th>2</th>\n",
              "      <td>Джессика Джонс. Пульс. Полное издание</td>\n",
              "      <td>1 150 руб</td>\n",
              "    </tr>\n",
              "    <tr>\n",
              "      <th>3</th>\n",
              "      <td>Kingsman. Секретная служба</td>\n",
              "      <td>460 руб</td>\n",
              "    </tr>\n",
              "    <tr>\n",
              "      <th>4</th>\n",
              "      <td>Структура Пыли</td>\n",
              "      <td>400 руб</td>\n",
              "    </tr>\n",
              "  </tbody>\n",
              "</table>\n",
              "</div>"
            ],
            "text/plain": [
              "                                         titles      price\n",
              "0                    Dark Souls. Полное издание  1 790 руб\n",
              "1  Оттенки магии. Стальной принц. Ночь кинжалов    710 руб\n",
              "2         Джессика Джонс. Пульс. Полное издание  1 150 руб\n",
              "3                    Kingsman. Секретная служба    460 руб\n",
              "4                                Структура Пыли    400 руб"
            ]
          },
          "metadata": {
            "tags": []
          },
          "execution_count": 45
        }
      ]
    },
    {
      "cell_type": "markdown",
      "metadata": {
        "id": "cdCL15K2qduV"
      },
      "source": [
        "# Домашнее задание (парсинг фильмов)"
      ]
    },
    {
      "cell_type": "markdown",
      "metadata": {
        "id": "XoeDPRQmqduW"
      },
      "source": [
        "* Сайт: https://www.kinopoisk.ru/lists/top250/\n",
        "\n",
        "\n",
        "* a. Спарсить название фильмов из топ-250.\n",
        "* b. Спарсить рейтинг фильмов\n",
        "* c.  Спарсить отзывы (необязательно)"
      ]
    },
    {
      "cell_type": "code",
      "metadata": {
        "colab": {
          "base_uri": "https://localhost:8080/",
          "height": 83,
          "referenced_widgets": [
            "24029dc9db87495ea216e0d6b5473f74",
            "7d5628b63555434d988ff92f56c09114",
            "00255e98223c4a7db42fcec8beb58410",
            "51f59cdf1bec49568ef7196c76cd0ab0",
            "cb568aa801c64012a22075981918a4f6",
            "d6d0b647312d440ba38f5c20b91a47b9",
            "560e2057b3394275a364703ddf8c8b51",
            "9398ead606704f47b597411a44ae4718"
          ]
        },
        "id": "etWT93iuqVee",
        "outputId": "f21d71c3-c0ba-419d-a4e3-1d47fde81521"
      },
      "source": [
        "from tqdm import notebook\n",
        "import requests\n",
        "import pandas as pd\n",
        "import bs4\n",
        "\n",
        "films_df = pd.DataFrame(columns=['Title', 'Raiting', 'Url'])\n",
        "url = 'https://www.kinopoisk.ru/lists/top250/?page=1&tab=all'\n",
        "try:\n",
        "    # Получим список страниц\n",
        "    response = requests.get(url)\n",
        "    soup = bs4.BeautifulSoup(response.content, 'html.parser')\n",
        "    pages = soup.find_all(\"a\", class_=\"paginator__page-number\")\n",
        "    url_pages = [f'https://www.kinopoisk.ru{url.get(\"href\")}' for url in pages]\n",
        "    print(url_pages)\n",
        "    # Обрабатываем каждую страницу\n",
        "    for page in notebook.tqdm(pages):\n",
        "        with requests.Session() as session:\n",
        "            html = session.get(url).text\n",
        "            soup = bs4.BeautifulSoup(html, 'html.parser')\n",
        "            tags = soup.find_all(\"div\", class_=\"desktop-rating-selection-film-item__upper-wrapper\")\n",
        "            for el in notebook.tqdm(tags):\n",
        "                Title = el.find(\"p\", class_=\"selection-film-item-meta__name\").text\n",
        "                Raiting = el.find(\"span\", class_=\"rating__value rating__value_positive\").text\n",
        "                Url = el.find(\"a\", class_=\"selection-film-item-meta__link\").get(\"href\")\n",
        "                row = pd.DataFrame([[Title, Raiting, Url]], columns=films_df.columns.to_list())\n",
        "                films_df.append(row)\n",
        "except Exception as e:\n",
        "    print(f'Error {e}')\n",
        "\n",
        "films_df.head"
      ],
      "execution_count": 85,
      "outputs": [
        {
          "output_type": "stream",
          "text": [
            "[]\n"
          ],
          "name": "stdout"
        },
        {
          "output_type": "display_data",
          "data": {
            "application/vnd.jupyter.widget-view+json": {
              "model_id": "24029dc9db87495ea216e0d6b5473f74",
              "version_minor": 0,
              "version_major": 2
            },
            "text/plain": [
              "HBox(children=(FloatProgress(value=1.0, bar_style='info', max=1.0), HTML(value='')))"
            ]
          },
          "metadata": {
            "tags": []
          }
        },
        {
          "output_type": "stream",
          "text": [
            "\n"
          ],
          "name": "stdout"
        }
      ]
    },
    {
      "cell_type": "markdown",
      "metadata": {
        "id": "kExz5jaTqduW"
      },
      "source": [
        "# Request + BeautifulSoup + Selenium"
      ]
    },
    {
      "cell_type": "code",
      "metadata": {
        "id": "H85MMCVIqduX",
        "colab": {
          "base_uri": "https://localhost:8080/",
          "height": 49
        },
        "outputId": "aeee1902-30a9-43bc-80fb-74a661258b4c"
      },
      "source": [
        "rubric = '5'\n",
        "i = 1\n",
        "\n",
        "news_df = pd.DataFrame(columns=['rubric', 'date', 'url', 'link', 'title', 'text', 'autor'])\n",
        "news_df"
      ],
      "execution_count": 29,
      "outputs": [
        {
          "output_type": "execute_result",
          "data": {
            "text/html": [
              "<div>\n",
              "<style scoped>\n",
              "    .dataframe tbody tr th:only-of-type {\n",
              "        vertical-align: middle;\n",
              "    }\n",
              "\n",
              "    .dataframe tbody tr th {\n",
              "        vertical-align: top;\n",
              "    }\n",
              "\n",
              "    .dataframe thead th {\n",
              "        text-align: right;\n",
              "    }\n",
              "</style>\n",
              "<table border=\"1\" class=\"dataframe\">\n",
              "  <thead>\n",
              "    <tr style=\"text-align: right;\">\n",
              "      <th></th>\n",
              "      <th>rubric</th>\n",
              "      <th>date</th>\n",
              "      <th>url</th>\n",
              "      <th>link</th>\n",
              "      <th>title</th>\n",
              "      <th>text</th>\n",
              "      <th>autor</th>\n",
              "    </tr>\n",
              "  </thead>\n",
              "  <tbody>\n",
              "  </tbody>\n",
              "</table>\n",
              "</div>"
            ],
            "text/plain": [
              "Empty DataFrame\n",
              "Columns: [rubric, date, url, link, title, text, autor]\n",
              "Index: []"
            ]
          },
          "metadata": {
            "tags": []
          },
          "execution_count": 29
        }
      ]
    },
    {
      "cell_type": "code",
      "metadata": {
        "scrolled": true,
        "id": "ynUygOQHqduX"
      },
      "source": [
        ""
      ],
      "execution_count": 29,
      "outputs": []
    },
    {
      "cell_type": "code",
      "metadata": {
        "id": "eG7kbxBOqduY"
      },
      "source": [
        "len(news_df[news_df.date == '2020-05-03'])"
      ],
      "execution_count": null,
      "outputs": []
    },
    {
      "cell_type": "markdown",
      "metadata": {
        "id": "HjMcl72TqduZ"
      },
      "source": [
        "Обработка случая \"показать еще\""
      ]
    },
    {
      "cell_type": "code",
      "metadata": {
        "id": "BfIPIvLgqduZ"
      },
      "source": [
        "from selenium import webdriver\n",
        "\n",
        "tmp = news_df.groupby(['url'])['link'].count().reset_index()\n",
        "urls_30 = tmp[tmp.link == 30].url.tolist()"
      ],
      "execution_count": null,
      "outputs": []
    },
    {
      "cell_type": "code",
      "metadata": {
        "id": "DQ0UeN74qdua"
      },
      "source": [
        "urls_30"
      ],
      "execution_count": null,
      "outputs": []
    },
    {
      "cell_type": "code",
      "metadata": {
        "id": "MFY5-CFpqdua"
      },
      "source": [
        "urls_30_links_df = pd.DataFrame(columns=['url', 'link'])\n",
        "\n",
        "driver = webdriver.Chrome('/Users/aleksey_ryabykh/.wdm/drivers/chromedriver/mac64/90.0.4430.24/chromedriver')\n",
        "\n",
        "for url in tqdm_notebook(urls_30):\n",
        "    driver.get(url)\n",
        "    try:\n",
        "        driver.find_element_by_class_name('lazyload-button').click()\n",
        "    except:\n",
        "        continue\n",
        "\n",
        "    while True: \n",
        "        try:\n",
        "            driver.implicitly_wait(3) \n",
        "            driver.find_element_by_class_name('lazyload-button').click()\n",
        "        except:\n",
        "            break\n",
        "\n",
        "    html = driver.page_source\n",
        "    soup = bs4.BeautifulSoup(html, 'html.parser')\n",
        "    links_divs = soup.findAll('div', {'class': 'archive_result__item_text'})\n",
        "    links = ['https://kommersant.ru' + link.find('a', href=True)['href'] for link in links_divs]\n",
        "    \n",
        "    tmp = pd.DataFrame([url for _ in range(len(links))], columns=['url'])\n",
        "    tmp['link'] = links\n",
        "    urls_30_links_df = urls_30_links_df.append(tmp)\n",
        "    \n",
        "driver.close()\n",
        "urls_30_links_df.to_csv('./urls_30_links_df.csv')"
      ],
      "execution_count": null,
      "outputs": []
    }
  ]
}