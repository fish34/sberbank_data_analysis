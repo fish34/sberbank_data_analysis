{
  "nbformat": 4,
  "nbformat_minor": 0,
  "metadata": {
    "colab": {
      "name": "Homework1.ipynb",
      "provenance": [],
      "collapsed_sections": [],
      "authorship_tag": "ABX9TyMWUGlZZjGNn9vG6zyY+Bs0",
      "include_colab_link": true
    },
    "kernelspec": {
      "name": "python3",
      "display_name": "Python 3"
    },
    "language_info": {
      "name": "python"
    }
  },
  "cells": [
    {
      "cell_type": "markdown",
      "metadata": {
        "id": "view-in-github",
        "colab_type": "text"
      },
      "source": [
        "<a href=\"https://colab.research.google.com/github/fish34/sberbank_data_analysis/blob/master/HW%201/HW1_pandas.ipynb\" target=\"_parent\"><img src=\"https://colab.research.google.com/assets/colab-badge.svg\" alt=\"Open In Colab\"/></a>"
      ]
    },
    {
      "cell_type": "code",
      "metadata": {
        "id": "McuXTPo7qa48"
      },
      "source": [
        "import pandas as pd # импортируем Pandas\n",
        "import numpy as np\n",
        "%matplotlib inline"
      ],
      "execution_count": 2,
      "outputs": []
    },
    {
      "cell_type": "code",
      "metadata": {
        "colab": {
          "base_uri": "https://localhost:8080/"
        },
        "id": "Vo1oda-2qnY0",
        "outputId": "5873191e-e888-41e0-bbf6-2336628dcc79"
      },
      "source": [
        "# считываем данные\n",
        "# https://www.kaggle.com/c/titanic/data\n",
        "!git clone https://github.com/fish34/sberbank_data_analysis.git\n",
        "!ls\n",
        "data = pd.read_csv('/content/sberbank_data_analysis/data/titanic/train.csv', sep=',', header='infer')"
      ],
      "execution_count": 3,
      "outputs": [
        {
          "output_type": "stream",
          "text": [
            "Cloning into 'sberbank_data_analysis'...\n",
            "remote: Enumerating objects: 140, done.\u001b[K\n",
            "remote: Counting objects: 100% (43/43), done.\u001b[K\n",
            "remote: Compressing objects: 100% (21/21), done.\u001b[K\n",
            "remote: Total 140 (delta 28), reused 21 (delta 21), pack-reused 97\u001b[K\n",
            "Receiving objects: 100% (140/140), 14.17 MiB | 24.84 MiB/s, done.\n",
            "Resolving deltas: 100% (45/45), done.\n",
            "sample_data  sberbank_data_analysis\n"
          ],
          "name": "stdout"
        }
      ]
    },
    {
      "cell_type": "markdown",
      "metadata": {
        "id": "4otPisNKquDk"
      },
      "source": [
        "Описание структуры:\n",
        "\n",
        "Pclass — класс пассажира (1 — первый, 2 — средний, 3 — третий);\n",
        "\n",
        "Name — имя;\n",
        "\n",
        "Sex — пол;\n",
        "\n",
        "Age — возраст;\n",
        "Age приводится количество полных лет. Для детей меньше 1 года — дробное. Если возраст не известен точно, то указано примерное значение в формате xx.5.\n",
        "\n",
        "SibSp — количество братьев, сестер, сводных братьев, сводных сестер, супругов \n",
        "на борту титаника;\n",
        "\n",
        "Parch — количество родителей, детей (в том числе приемных) на борту титаника;\n",
        "\n",
        "Ticket — номер билета;\n",
        "\n",
        "Fare — плата за проезд;\n",
        "\n",
        "Cabin — каюта;\n",
        "\n",
        "Embarked — порт посадки (C — Шербур; Q — Квинстаун; S — Саутгемптон)."
      ]
    },
    {
      "cell_type": "markdown",
      "metadata": {
        "id": "tRy0kU06rMM0"
      },
      "source": [
        "Гипотеза 1: Процент числа выживших пассажиров из Саутгемптона выше, чем из Шербура или Квинстауна."
      ]
    },
    {
      "cell_type": "code",
      "metadata": {
        "colab": {
          "base_uri": "https://localhost:8080/",
          "height": 352
        },
        "id": "eodkbxcsuI5T",
        "outputId": "b67db138-0ed5-4812-d045-9f092ea0cef3"
      },
      "source": [
        "series = round(100 * data.groupby(['Embarked'])['Survived'].sum() / data.groupby(['Embarked'])['Survived'].count())\n",
        "series.plot(figsize=(10, 5), linestyle='--', marker='o', markersize=10, grid=True, lw=3)"
      ],
      "execution_count": 18,
      "outputs": [
        {
          "output_type": "execute_result",
          "data": {
            "text/plain": [
              "<matplotlib.axes._subplots.AxesSubplot at 0x7efbdb8dc910>"
            ]
          },
          "metadata": {
            "tags": []
          },
          "execution_count": 18
        },
        {
          "output_type": "display_data",
          "data": {
            "image/png": "[encoded data removed]",
            "text/plain": [
              "<Figure size 720x360 with 1 Axes>"
            ]
          },
          "metadata": {
            "tags": [],
            "needs_background": "light"
          }
        }
      ]
    },
    {
      "cell_type": "markdown",
      "metadata": {
        "id": "Ak5mMaO6Co79"
      },
      "source": [
        "Гипотеза не подтвердилась. Число выживших пассажиров из Саутгемптона оказалось меньше всех."
      ]
    },
    {
      "cell_type": "markdown",
      "metadata": {
        "id": "GTfVxG-wHrt4"
      },
      "source": [
        "Гипотеза 2: Больше выживших было среди молодых девушек, нежели женщин"
      ]
    },
    {
      "cell_type": "code",
      "metadata": {
        "colab": {
          "base_uri": "https://localhost:8080/",
          "height": 610
        },
        "id": "3WG6rZxpHzH4",
        "outputId": "8510eb16-573b-46af-9b58-cd9ef1ef9c66"
      },
      "source": [
        "ax = data[(data['Survived'] == 1)& (data['Sex'] == 'female')]['Age'].hist(figsize=(20, 10), bins=80, \n",
        "                                          edgecolor='white', grid=True, color='green')\n",
        "\n",
        "ax.legend(['Survived'], prop={'size':16})"
      ],
      "execution_count": 32,
      "outputs": [
        {
          "output_type": "execute_result",
          "data": {
            "text/plain": [
              "<matplotlib.legend.Legend at 0x7efbd98c5a90>"
            ]
          },
          "metadata": {
            "tags": []
          },
          "execution_count": 32
        },
        {
          "output_type": "display_data",
          "data": {
            "image/png": "[encoded data removed]",
            "text/plain": [
              "<Figure size 1440x720 with 1 Axes>"
            ]
          },
          "metadata": {
            "tags": [],
            "needs_background": "light"
          }
        }
      ]
    },
    {
      "cell_type": "markdown",
      "metadata": {
        "id": "obJ12VXeLcke"
      },
      "source": [
        "Гипотеза подтердилась."
      ]
    },
    {
      "cell_type": "markdown",
      "metadata": {
        "id": "37rrI6unLioM"
      },
      "source": [
        "Гипотеза 3: Больше всего выживших было серди женщин из первого класса\n"
      ]
    },
    {
      "cell_type": "code",
      "metadata": {
        "colab": {
          "base_uri": "https://localhost:8080/",
          "height": 610
        },
        "id": "qkMXPcWIMpg0",
        "outputId": "b3ea5892-a299-438d-867a-4508adfea4f2"
      },
      "source": [
        "ax = data[(data['Survived'] == 1)& (data['Sex'] == 'female')]['Pclass'].hist(figsize=(20, 10), bins=80, \n",
        "                                          edgecolor='white', grid=True, color='green')\n",
        "\n",
        "ax.legend(['Survived'], prop={'size':16})"
      ],
      "execution_count": 39,
      "outputs": [
        {
          "output_type": "execute_result",
          "data": {
            "text/plain": [
              "<matplotlib.legend.Legend at 0x7efbd93d93d0>"
            ]
          },
          "metadata": {
            "tags": []
          },
          "execution_count": 39
        },
        {
          "output_type": "display_data",
          "data": {
            "image/png": "[encoded data removed]",
            "text/plain": [
              "<Figure size 1440x720 with 1 Axes>"
            ]
          },
          "metadata": {
            "tags": [],
            "needs_background": "light"
          }
        }
      ]
    },
    {
      "cell_type": "markdown",
      "metadata": {
        "id": "nnhakapKP7Ne"
      },
      "source": [
        "Гипотеза подтвердилась.\n"
      ]
    }
  ]
}