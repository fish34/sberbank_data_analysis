{
  "nbformat": 4,
  "nbformat_minor": 0,
  "metadata": {
    "kernelspec": {
      "display_name": "Python 3",
      "language": "python",
      "name": "python3"
    },
    "language_info": {
      "codemirror_mode": {
        "name": "ipython",
        "version": 3
      },
      "file_extension": ".py",
      "mimetype": "text/x-python",
      "name": "python",
      "nbconvert_exporter": "python",
      "pygments_lexer": "ipython3",
      "version": "3.6.8"
    },
    "colab": {
      "name": "hw_numpy.ipynb",
      "provenance": [],
      "collapsed_sections": [],
      "include_colab_link": true
    }
  },
  "cells": [
    {
      "cell_type": "markdown",
      "metadata": {
        "id": "view-in-github",
        "colab_type": "text"
      },
      "source": [
        "<a href=\"https://colab.research.google.com/github/fish34/sberbank_data_analysis/blob/master/hw_numpy.ipynb\" target=\"_parent\"><img src=\"https://colab.research.google.com/assets/colab-badge.svg\" alt=\"Open In Colab\"/></a>"
      ]
    },
    {
      "cell_type": "markdown",
      "metadata": {
        "id": "XnwivIbii-vE"
      },
      "source": [
        "### Упражнение 1\n",
        "\n",
        "На одном графике изобразите время затраченное на вычисление с использованием массивов numpy и стандартных списков в питоне.  \n",
        "Для более точных результатов замеряйте время выполнения функции несколько раз и усредняйте. \n",
        "* Используйте функцию `z = 2*x**2 + 4*y`\n",
        "* Перемножение матриц размера n на n"
      ]
    },
    {
      "cell_type": "code",
      "metadata": {
        "id": "22N0xmyckrOl"
      },
      "source": [
        "import numpy as np\n",
        "import time"
      ],
      "execution_count": 1,
      "outputs": []
    },
    {
      "cell_type": "code",
      "metadata": {
        "colab": {
          "base_uri": "https://localhost:8080/"
        },
        "id": "w2eBGBcSjYOe",
        "outputId": "b58e9da8-11bb-49af-c975-a846ce8b5c90"
      },
      "source": [
        "size_of_vec = 30000\n",
        "py=np.zeros(100)\n",
        "num=np.zeros(100)\n",
        "def python():\n",
        "    start = time.time()\n",
        "    X = range(size_of_vec)\n",
        "    Y = range(size_of_vec)\n",
        "    Z = [2*X[i]**2 + 4*Y[i] for i in range(len(X))]\n",
        "    return time.time() - start\n",
        "\n",
        "def numpy():\n",
        "    start = time.time()\n",
        "    X = np.arange(size_of_vec)\n",
        "    Y = np.arange(size_of_vec)\n",
        "    Z = 2*X**2 + 4*Y\n",
        "    return time.time() - start\n",
        "for i in range(100):\n",
        "  py[i]=python()\n",
        "  num[i]=numpy()\n",
        "print(f'numpy is faster {py.mean()/num.mean()} times')"
      ],
      "execution_count": 2,
      "outputs": [
        {
          "output_type": "stream",
          "text": [
            "numpy is faster 55.36232721359182 times\n"
          ],
          "name": "stdout"
        }
      ]
    },
    {
      "cell_type": "code",
      "metadata": {
        "colab": {
          "base_uri": "https://localhost:8080/"
        },
        "id": "-qG9l92ym9bk",
        "outputId": "25ae59be-ea9c-4845-b408-6cbd1f88e6b2"
      },
      "source": [
        "size_of_vec = 30000\n",
        "py=np.zeros(100)\n",
        "num=np.zeros(100)\n",
        "def python():\n",
        "    start = time.time()\n",
        "    X = range(size_of_vec)\n",
        "    Y = range(size_of_vec)\n",
        "    Z = list(map(lambda x,y: x*y, X,Y))\n",
        "    return time.time() - start\n",
        "\n",
        "def numpy():\n",
        "    start = time.time()\n",
        "    X = np.arange(size_of_vec)\n",
        "    Y = np.arange(size_of_vec)\n",
        "    Z = X*Y\n",
        "    return time.time() - start\n",
        "\n",
        "for i in range(100):\n",
        "  py[i]=python()\n",
        "  num[i]=numpy()\n",
        "print(f'numpy is faster {py.mean()/num.mean()} times')"
      ],
      "execution_count": 3,
      "outputs": [
        {
          "output_type": "stream",
          "text": [
            "numpy is faster 6.3375094886717225 times\n"
          ],
          "name": "stdout"
        }
      ]
    },
    {
      "cell_type": "markdown",
      "metadata": {
        "id": "HvtJj0IMi-vW"
      },
      "source": [
        "### Упражнение 2\n",
        "* Создайте массив чисел от 2 до 75. Выведите только нечётные. \n",
        "* Присвойте нечётным числам этого массива значение -1.\n",
        "\n"
      ]
    },
    {
      "cell_type": "code",
      "metadata": {
        "colab": {
          "base_uri": "https://localhost:8080/"
        },
        "id": "IJdzT_IDqIi2",
        "outputId": "d65babea-b9e3-4ebc-8a8b-ec9f6f039422"
      },
      "source": [
        "mas=np.arange(2,76)\n",
        "filter_arr=mas%2==1\n",
        "mas[filter_arr]"
      ],
      "execution_count": 4,
      "outputs": [
        {
          "output_type": "execute_result",
          "data": {
            "text/plain": [
              "array([ 3,  5,  7,  9, 11, 13, 15, 17, 19, 21, 23, 25, 27, 29, 31, 33, 35,\n",
              "       37, 39, 41, 43, 45, 47, 49, 51, 53, 55, 57, 59, 61, 63, 65, 67, 69,\n",
              "       71, 73, 75])"
            ]
          },
          "metadata": {
            "tags": []
          },
          "execution_count": 4
        }
      ]
    },
    {
      "cell_type": "code",
      "metadata": {
        "colab": {
          "base_uri": "https://localhost:8080/"
        },
        "id": "L6SGLMl9umAR",
        "outputId": "8653a0c2-1d98-43fa-c9b6-e438d8d85fbd"
      },
      "source": [
        "mas[filter_arr]=-1\n",
        "mas"
      ],
      "execution_count": 5,
      "outputs": [
        {
          "output_type": "execute_result",
          "data": {
            "text/plain": [
              "array([ 2, -1,  4, -1,  6, -1,  8, -1, 10, -1, 12, -1, 14, -1, 16, -1, 18,\n",
              "       -1, 20, -1, 22, -1, 24, -1, 26, -1, 28, -1, 30, -1, 32, -1, 34, -1,\n",
              "       36, -1, 38, -1, 40, -1, 42, -1, 44, -1, 46, -1, 48, -1, 50, -1, 52,\n",
              "       -1, 54, -1, 56, -1, 58, -1, 60, -1, 62, -1, 64, -1, 66, -1, 68, -1,\n",
              "       70, -1, 72, -1, 74, -1])"
            ]
          },
          "metadata": {
            "tags": []
          },
          "execution_count": 5
        }
      ]
    },
    {
      "cell_type": "markdown",
      "metadata": {
        "id": "7hG3vpY8i-vY"
      },
      "source": [
        "### Упражнение 3\n",
        "\n",
        "* Найдите в документации функцию, которая удаляет из одного массива элементы, которые есть в другом. \n",
        "* Приведите примеры использования."
      ]
    },
    {
      "cell_type": "code",
      "metadata": {
        "colab": {
          "base_uri": "https://localhost:8080/"
        },
        "id": "8e1RfKiCu5T4",
        "outputId": "d08ebafc-9fb7-49bc-f594-cccb41f7ad52"
      },
      "source": [
        "# https://numpy.org/doc/stable/reference/generated/numpy.setdiff1d.html#numpy.setdiff1d\n",
        "\n",
        "mas1=np.random.randint(0,10,10)\n",
        "mas2=np.random.randint(0,10,10)\n",
        "print(mas1,mas2)\n",
        "diff=np.setdiff1d(mas1,mas2)\n",
        "print(diff)\n"
      ],
      "execution_count": 6,
      "outputs": [
        {
          "output_type": "stream",
          "text": [
            "[8 5 5 4 9 1 8 3 8 7] [2 7 6 6 7 5 8 4 3 0]\n",
            "[1 9]\n"
          ],
          "name": "stdout"
        }
      ]
    },
    {
      "cell_type": "markdown",
      "metadata": {
        "id": "O90bc5PIi-vZ"
      },
      "source": [
        "### Упражнение 4\n",
        "\n",
        "* Создайте случайную квадратную матрицу случайного размера от 10 до 100. \n",
        "* Найдите максимум и сумму элементов.\n",
        "* Поделите каждый элемент матрицы на максимум.\n",
        "* Отнимите от каждой строки матрицы среднее по строке.\n",
        "* Замените максимальное значение на -1."
      ]
    },
    {
      "cell_type": "code",
      "metadata": {
        "colab": {
          "base_uri": "https://localhost:8080/"
        },
        "id": "rmZUuIc_02JK",
        "outputId": "e0717ed6-5be0-4216-adcc-059c39c969cc"
      },
      "source": [
        "seed=np.random.randint(4,10)\n",
        "A=np.random.randint(10,100,size=seed**2).reshape(seed,seed)\n",
        "print(A)\n",
        "print(f'Max {A.max()}')\n",
        "print(f'Sum {A.sum()}')\n",
        "B=A/A.max()\n",
        "print(B)"
      ],
      "execution_count": 7,
      "outputs": [
        {
          "output_type": "stream",
          "text": [
            "[[26 42 27 28 42 98 45 80]\n",
            " [91 75 28 46 70 44 91 99]\n",
            " [31 88 77 12 41 37 83 85]\n",
            " [49 66 94 76 17 30 96 97]\n",
            " [44 38 78 66 23 90 62 75]\n",
            " [27 27 88 22 32 96 44 52]\n",
            " [95 20 83 18 96 21 11 37]\n",
            " [81 76 29 27 45 44 33 28]]\n",
            "Max 99\n",
            "Sum 3519\n",
            "[[0.26262626 0.42424242 0.27272727 0.28282828 0.42424242 0.98989899\n",
            "  0.45454545 0.80808081]\n",
            " [0.91919192 0.75757576 0.28282828 0.46464646 0.70707071 0.44444444\n",
            "  0.91919192 1.        ]\n",
            " [0.31313131 0.88888889 0.77777778 0.12121212 0.41414141 0.37373737\n",
            "  0.83838384 0.85858586]\n",
            " [0.49494949 0.66666667 0.94949495 0.76767677 0.17171717 0.3030303\n",
            "  0.96969697 0.97979798]\n",
            " [0.44444444 0.38383838 0.78787879 0.66666667 0.23232323 0.90909091\n",
            "  0.62626263 0.75757576]\n",
            " [0.27272727 0.27272727 0.88888889 0.22222222 0.32323232 0.96969697\n",
            "  0.44444444 0.52525253]\n",
            " [0.95959596 0.2020202  0.83838384 0.18181818 0.96969697 0.21212121\n",
            "  0.11111111 0.37373737]\n",
            " [0.81818182 0.76767677 0.29292929 0.27272727 0.45454545 0.44444444\n",
            "  0.33333333 0.28282828]]\n"
          ],
          "name": "stdout"
        }
      ]
    },
    {
      "cell_type": "code",
      "metadata": {
        "colab": {
          "base_uri": "https://localhost:8080/"
        },
        "id": "9wMQIEnl3T3b",
        "outputId": "5f35b365-a6d8-44b4-df0a-c17f4f3bc195"
      },
      "source": [
        "mean=A.mean(axis=0)\n",
        "print(mean)\n",
        "meant=np.tile(mean,(seed,1)).T\n",
        "print(meant)\n",
        "A-meant"
      ],
      "execution_count": 8,
      "outputs": [
        {
          "output_type": "stream",
          "text": [
            "[55.5   54.    63.    36.875 45.75  57.5   58.125 69.125]\n",
            "[[55.5   55.5   55.5   55.5   55.5   55.5   55.5   55.5  ]\n",
            " [54.    54.    54.    54.    54.    54.    54.    54.   ]\n",
            " [63.    63.    63.    63.    63.    63.    63.    63.   ]\n",
            " [36.875 36.875 36.875 36.875 36.875 36.875 36.875 36.875]\n",
            " [45.75  45.75  45.75  45.75  45.75  45.75  45.75  45.75 ]\n",
            " [57.5   57.5   57.5   57.5   57.5   57.5   57.5   57.5  ]\n",
            " [58.125 58.125 58.125 58.125 58.125 58.125 58.125 58.125]\n",
            " [69.125 69.125 69.125 69.125 69.125 69.125 69.125 69.125]]\n"
          ],
          "name": "stdout"
        },
        {
          "output_type": "execute_result",
          "data": {
            "text/plain": [
              "array([[-29.5  , -13.5  , -28.5  , -27.5  , -13.5  ,  42.5  , -10.5  ,\n",
              "         24.5  ],\n",
              "       [ 37.   ,  21.   , -26.   ,  -8.   ,  16.   , -10.   ,  37.   ,\n",
              "         45.   ],\n",
              "       [-32.   ,  25.   ,  14.   , -51.   , -22.   , -26.   ,  20.   ,\n",
              "         22.   ],\n",
              "       [ 12.125,  29.125,  57.125,  39.125, -19.875,  -6.875,  59.125,\n",
              "         60.125],\n",
              "       [ -1.75 ,  -7.75 ,  32.25 ,  20.25 , -22.75 ,  44.25 ,  16.25 ,\n",
              "         29.25 ],\n",
              "       [-30.5  , -30.5  ,  30.5  , -35.5  , -25.5  ,  38.5  , -13.5  ,\n",
              "         -5.5  ],\n",
              "       [ 36.875, -38.125,  24.875, -40.125,  37.875, -37.125, -47.125,\n",
              "        -21.125],\n",
              "       [ 11.875,   6.875, -40.125, -42.125, -24.125, -25.125, -36.125,\n",
              "        -41.125]])"
            ]
          },
          "metadata": {
            "tags": []
          },
          "execution_count": 8
        }
      ]
    },
    {
      "cell_type": "code",
      "metadata": {
        "colab": {
          "base_uri": "https://localhost:8080/"
        },
        "id": "-G1Kn_NNA0Yn",
        "outputId": "c527691f-f9f8-4dc4-d808-b4392589dd62"
      },
      "source": [
        "A[A==A.max()]=-1\n",
        "A"
      ],
      "execution_count": 9,
      "outputs": [
        {
          "output_type": "execute_result",
          "data": {
            "text/plain": [
              "array([[26, 42, 27, 28, 42, 98, 45, 80],\n",
              "       [91, 75, 28, 46, 70, 44, 91, -1],\n",
              "       [31, 88, 77, 12, 41, 37, 83, 85],\n",
              "       [49, 66, 94, 76, 17, 30, 96, 97],\n",
              "       [44, 38, 78, 66, 23, 90, 62, 75],\n",
              "       [27, 27, 88, 22, 32, 96, 44, 52],\n",
              "       [95, 20, 83, 18, 96, 21, 11, 37],\n",
              "       [81, 76, 29, 27, 45, 44, 33, 28]])"
            ]
          },
          "metadata": {
            "tags": []
          },
          "execution_count": 9
        }
      ]
    },
    {
      "cell_type": "markdown",
      "metadata": {
        "id": "JmL3KM-9i-va"
      },
      "source": [
        "### Упражнение 5\n",
        "* Напишите функцию, которая берет многомерный вещественный массив с пропущенными значениями (np.nan) и возвращает его копию с заполненными пропусками (заменять средним значением всех элементов массива). Если в массиве одни пропущенные значения, заполните их нулями."
      ]
    },
    {
      "cell_type": "code",
      "metadata": {
        "colab": {
          "base_uri": "https://localhost:8080/"
        },
        "id": "ap3Ca6dx4Pn9",
        "outputId": "4f26c5a5-b5f6-42cf-e603-899526b24f56"
      },
      "source": [
        "A=np.empty(shape=(3,3))\n",
        "A[:]=np.nan\n",
        "B=np.array([[1,np.nan,3],[4,5,6],[np.nan,8,9]])\n",
        "\n",
        "def mfill(arr):\n",
        "  mean=np.nanmean(arr)\n",
        "  print(mean)\n",
        "  if np.isnan(mean):\n",
        "    arr[:]=0 \n",
        "  else:\n",
        "    arr[np.isnan(arr)]=mean   \n",
        "  return arr\n",
        "for el in [A,B]:\n",
        "  print(f'source: {el}, processed: {mfill(el)}')"
      ],
      "execution_count": 10,
      "outputs": [
        {
          "output_type": "stream",
          "text": [
            "nan\n",
            "source: [[nan nan nan]\n",
            " [nan nan nan]\n",
            " [nan nan nan]], processed: [[0. 0. 0.]\n",
            " [0. 0. 0.]\n",
            " [0. 0. 0.]]\n",
            "5.142857142857143\n",
            "source: [[ 1. nan  3.]\n",
            " [ 4.  5.  6.]\n",
            " [nan  8.  9.]], processed: [[1.         5.14285714 3.        ]\n",
            " [4.         5.         6.        ]\n",
            " [5.14285714 8.         9.        ]]\n"
          ],
          "name": "stdout"
        },
        {
          "output_type": "stream",
          "text": [
            "/usr/local/lib/python3.7/dist-packages/ipykernel_launcher.py:6: RuntimeWarning: Mean of empty slice\n",
            "  \n"
          ],
          "name": "stderr"
        }
      ]
    },
    {
      "cell_type": "code",
      "metadata": {
        "colab": {
          "base_uri": "https://localhost:8080/"
        },
        "id": "Tup-WDnXc13_",
        "outputId": "b71be7ea-20ea-4443-b109-24c02f204a96"
      },
      "source": [
        "np.isnan([np.nan,np.nan])"
      ],
      "execution_count": 11,
      "outputs": [
        {
          "output_type": "execute_result",
          "data": {
            "text/plain": [
              "array([ True,  True])"
            ]
          },
          "metadata": {
            "tags": []
          },
          "execution_count": 11
        }
      ]
    },
    {
      "cell_type": "markdown",
      "metadata": {
        "id": "miqBYUZXi-va"
      },
      "source": [
        "### Упражнение 6\n",
        "* Напишите функцию которая нормализирует заданный numpy-массив, так чтобы его значения лежали в интервале $[0, 1]$."
      ]
    },
    {
      "cell_type": "code",
      "metadata": {
        "colab": {
          "base_uri": "https://localhost:8080/"
        },
        "id": "GIMdBJFs87ml",
        "outputId": "7e563b89-d958-4176-efe3-81236d9f365e"
      },
      "source": [
        "A=np.array([1,46,26,543,54,78,324,90]).reshape(4,-1)\n",
        "def norm(arr):\n",
        "  return arr/arr.max()\n",
        "  #or arr/np.linalg.norm(A)\n",
        "print(A, norm(A))"
      ],
      "execution_count": 12,
      "outputs": [
        {
          "output_type": "stream",
          "text": [
            "[[  1  46]\n",
            " [ 26 543]\n",
            " [ 54  78]\n",
            " [324  90]] [[0.00184162 0.08471455]\n",
            " [0.04788214 1.        ]\n",
            " [0.09944751 0.14364641]\n",
            " [0.59668508 0.16574586]]\n"
          ],
          "name": "stdout"
        }
      ]
    },
    {
      "cell_type": "markdown",
      "metadata": {
        "id": "7B77ZHmxi-vb"
      },
      "source": [
        "### Упражнение 7\n",
        "* Запишите numpy-array в файл.\n",
        "* Считайте numpy-array из файла."
      ]
    },
    {
      "cell_type": "code",
      "metadata": {
        "colab": {
          "base_uri": "https://localhost:8080/"
        },
        "id": "wJJbMm2CAyp4",
        "outputId": "9458db8b-adb6-463a-a3f9-6512bf6cbdcb"
      },
      "source": [
        "A=np.array([1,46,26,543,54,78,324,90]).reshape(4,-1)\n",
        "fname='test.txt'\n",
        "np.savetxt(fname,A,fmt='%d')\n",
        "B=np.loadtxt(fname)\n",
        "print(A,B)"
      ],
      "execution_count": 13,
      "outputs": [
        {
          "output_type": "stream",
          "text": [
            "[[  1  46]\n",
            " [ 26 543]\n",
            " [ 54  78]\n",
            " [324  90]] [[  1.  46.]\n",
            " [ 26. 543.]\n",
            " [ 54.  78.]\n",
            " [324.  90.]]\n"
          ],
          "name": "stdout"
        }
      ]
    },
    {
      "cell_type": "markdown",
      "metadata": {
        "id": "Ha6Jvhh5i-vc"
      },
      "source": [
        "### Упражнение 8\n",
        "* Создайте случайный массив\n",
        "* Найдите в массиве элемент ближайший к данному"
      ]
    },
    {
      "cell_type": "code",
      "metadata": {
        "colab": {
          "base_uri": "https://localhost:8080/"
        },
        "id": "CeSwImImDZ4d",
        "outputId": "6a9b1d68-276a-48a5-d285-cf60ad39ef51"
      },
      "source": [
        "A = np.random.randint(0, 1000, 30)\n",
        "def closest(arr,el):\n",
        "  diff=arr-el\n",
        "  return diff.min()+el\n",
        "print(A,closest(A,10))"
      ],
      "execution_count": 14,
      "outputs": [
        {
          "output_type": "stream",
          "text": [
            "[127 767 473 925 517 602 562  46 364 522 956 944  74 361 517 630 896   4\n",
            " 117 209 782 799 522 636 699 803 260 723 965 616] 4\n"
          ],
          "name": "stdout"
        }
      ]
    },
    {
      "cell_type": "markdown",
      "metadata": {
        "id": "VphZg7sSi-vd"
      },
      "source": [
        "### Упражнение 9"
      ]
    },
    {
      "cell_type": "markdown",
      "metadata": {
        "id": "oFJECQw5i-vd"
      },
      "source": [
        "* Напишите функцию, которая возвращает  $n \\times m$ целочисленную матрицу с заданным значением на границах матрицы и с заданным значением внутри"
      ]
    },
    {
      "cell_type": "code",
      "metadata": {
        "colab": {
          "base_uri": "https://localhost:8080/"
        },
        "id": "7Inz4y4FFMX0",
        "outputId": "ea9b3a2f-d1fb-4518-feee-1fb0d122898e"
      },
      "source": [
        "def out(n,m,border,inner,):\n",
        "  A=np.zeros((n,m),dtype='int64')\n",
        "  A[:]=inner\n",
        "  A[[0,n-1],:]=border\n",
        "  A[:,[0,m-1]]=border\n",
        "  return A\n",
        "\n",
        "out(32,55,77,1)"
      ],
      "execution_count": 15,
      "outputs": [
        {
          "output_type": "execute_result",
          "data": {
            "text/plain": [
              "array([[77, 77, 77, ..., 77, 77, 77],\n",
              "       [77,  1,  1, ...,  1,  1, 77],\n",
              "       [77,  1,  1, ...,  1,  1, 77],\n",
              "       ...,\n",
              "       [77,  1,  1, ...,  1,  1, 77],\n",
              "       [77,  1,  1, ...,  1,  1, 77],\n",
              "       [77, 77, 77, ..., 77, 77, 77]])"
            ]
          },
          "metadata": {
            "tags": []
          },
          "execution_count": 15
        }
      ]
    },
    {
      "cell_type": "markdown",
      "metadata": {
        "id": "wDmDzfNyi-ve"
      },
      "source": [
        "### Упражнение 10\n",
        "* Напишите функцию, которая сортирует строки данной матрицы по значениям заданного столбца в порядке убывания. "
      ]
    },
    {
      "cell_type": "code",
      "metadata": {
        "colab": {
          "base_uri": "https://localhost:8080/"
        },
        "id": "ofLPj3OE0K18",
        "outputId": "763f8377-a3c2-4691-adeb-94429af78d14"
      },
      "source": [
        "A=np.random.randint(0,30,12).reshape(3,4)\n",
        "A\n"
      ],
      "execution_count": 16,
      "outputs": [
        {
          "output_type": "execute_result",
          "data": {
            "text/plain": [
              "array([[ 5, 10,  3,  5],\n",
              "       [28, 24, 10, 17],\n",
              "       [21, 21,  1,  6]])"
            ]
          },
          "metadata": {
            "tags": []
          },
          "execution_count": 16
        }
      ]
    },
    {
      "cell_type": "code",
      "metadata": {
        "colab": {
          "base_uri": "https://localhost:8080/"
        },
        "id": "Ou09A6m-1i01",
        "outputId": "3bbd22ca-b8d9-4a7c-ac95-be151ef30cf0"
      },
      "source": [
        "def sortbycolumn(arr,col):\n",
        "  ind=arr[:,col].argsort()\n",
        "  order=np.flip(ind)\n",
        "  return arr[order]\n",
        "\n",
        "sortbycolumn(A,3)"
      ],
      "execution_count": 17,
      "outputs": [
        {
          "output_type": "execute_result",
          "data": {
            "text/plain": [
              "array([[28, 24, 10, 17],\n",
              "       [21, 21,  1,  6],\n",
              "       [ 5, 10,  3,  5]])"
            ]
          },
          "metadata": {
            "tags": []
          },
          "execution_count": 17
        }
      ]
    },
    {
      "cell_type": "markdown",
      "metadata": {
        "id": "I_PP1Lshi-ve"
      },
      "source": [
        "### Упражнение 11\n",
        "\n",
        "* Напишите функцию, которая создает двоичную матрицу шахматной доски с заданным shape\n",
        "\n",
        "Пример 4x4:\n",
        "```python\n",
        "[[0, 1, 0, 1],\n",
        " [1, 0, 1, 0],\n",
        " [0, 1, 0, 1],\n",
        " [1, 0, 1, 0]]\n",
        "```"
      ]
    },
    {
      "cell_type": "code",
      "metadata": {
        "colab": {
          "base_uri": "https://localhost:8080/"
        },
        "id": "6nmVGqBENLwT",
        "outputId": "0612680b-80cd-4685-eef1-a74411baca08"
      },
      "source": [
        "shape=(7,8)\n",
        "A=np.zeros(shape,dtype='int64')\n",
        "def chess(arr,share):\n",
        "  arr[0:shape[0]:2,0:shape[1]:2]=1\n",
        "  arr[1:shape[0]:2,1:shape[1]:2]=1\n",
        "  return arr\n",
        "chess(A,shape)"
      ],
      "execution_count": 35,
      "outputs": [
        {
          "output_type": "execute_result",
          "data": {
            "text/plain": [
              "array([[1, 0, 1, 0, 1, 0, 1, 0],\n",
              "       [0, 1, 0, 1, 0, 1, 0, 1],\n",
              "       [1, 0, 1, 0, 1, 0, 1, 0],\n",
              "       [0, 1, 0, 1, 0, 1, 0, 1],\n",
              "       [1, 0, 1, 0, 1, 0, 1, 0],\n",
              "       [0, 1, 0, 1, 0, 1, 0, 1],\n",
              "       [1, 0, 1, 0, 1, 0, 1, 0]])"
            ]
          },
          "metadata": {
            "tags": []
          },
          "execution_count": 35
        }
      ]
    },
    {
      "cell_type": "markdown",
      "metadata": {
        "id": "rMiHvq6Vi-vf"
      },
      "source": [
        "### Упражнение 12\n",
        "* Напишите игру [life](https://en.wikipedia.org/wiki/Conway%27s_Game_of_Life), используя массивы numpy.\n",
        "* Визуализируйте интерактивно ее результаты.\n",
        "\n"
      ]
    }
  ]
}
